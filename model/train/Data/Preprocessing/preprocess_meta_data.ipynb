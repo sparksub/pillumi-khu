{
 "cells": [
  {
   "cell_type": "code",
   "execution_count": 36,
   "metadata": {
    "collapsed": true,
    "pycharm": {
     "name": "#%%\n"
    }
   },
   "outputs": [],
   "source": [
    "import pandas as pd"
   ]
  },
  {
   "cell_type": "code",
   "execution_count": 37,
   "outputs": [
    {
     "name": "stderr",
     "output_type": "stream",
     "text": [
      "C:\\Users\\Jaehun_IAILab\\anaconda3\\envs\\pill_recog\\lib\\site-packages\\IPython\\core\\interactiveshell.py:3457: DtypeWarning: Columns (14,15) have mixed types.Specify dtype option on import or set low_memory=False.\n",
      "  exec(code_obj, self.user_global_ns, self.user_ns)\n"
     ]
    }
   ],
   "source": [
    "df = pd.read_csv(\"../pill_kr_original.csv\")"
   ],
   "metadata": {
    "collapsed": false,
    "pycharm": {
     "name": "#%%\n"
    }
   }
  },
  {
   "cell_type": "code",
   "execution_count": 38,
   "outputs": [
    {
     "data": {
      "text/plain": "       number   ITEM_SEQ                ITEM_NAME  ENTP_SEQ ENTP_NAME  \\\n0           1  200808876  가스디알정50밀리그램(디메크로틴산마그네슘)  19540006   일동제약(주)   \n1           2  200808877       페라트라정2.5밀리그램(레트로졸)  19560004   (주)유한양행   \n2           3  200808948         졸뎀속붕정(졸피뎀타르타르산염)  20080422   보령제약(주)   \n3           4  200809076    가스프렌정(모사프리드시트르산염이수화물)  19760002   경동제약(주)   \n4           5  200809276         디텐션정80밀리그램(발사르탄)  19700003   일성신약(주)   \n...       ...        ...                      ...       ...       ...   \n24705   24706  202102255      빌다글립엠정50밀리그램(빌다글립틴)  19550012  (주)마더스제약   \n24706   24707  201903260     몬카츄정4밀리그램(몬테루카스트나트륨)  19700003   일성신약(주)   \n24707   24708  201903261     몬카츄정5밀리그램(몬테루카스트나트륨)  19700003   일성신약(주)   \n24708   24709  202106679    폴세틴캡슐20밀리그램(플루옥세틴염산염)  19840009  (주)알피바이오   \n24709   24710  202102262               덴티텐캡슐(청위산)  19840009  (주)알피바이오   \n\n                                         CHART  \\\n0                                 녹색의 원형 필름코팅정   \n1                             어두운 황색의 원형 필름코팅정   \n2                                흰색의 원형 구강붕해정제   \n3                       분할선을 가진 흰색의 장방형 필름코팅정제   \n4                                주황색의 원형 필름코팅정   \n...                                        ...   \n24705                   흰색 내지 밝은 노란색을 띠는 원형 정제   \n24706                 양면이 볼록한 타원형의 씹어먹는 분홍색 정제   \n24707                  양면이 볼록한 원형의 씹어먹는 분홍색 정제   \n24708  흰색 내지 밝은 회색의 분말을 함유한 상,하부 연한 노랑색의 경질캡슐제   \n24709      갈색의 분말이 충전된 상부 옅은 회적색, 하부 흰색의 경질캡슐제   \n\n                                              ITEM_IMAGE PRINT_FRONT  \\\n0      https://nedrug.mfds.go.kr/pbp/cmn/itemImageDow...         IDG   \n1      https://nedrug.mfds.go.kr/pbp/cmn/itemImageDow...          YH   \n2      https://nedrug.mfds.go.kr/pbp/cmn/itemImageDow...         NaN   \n3      https://nedrug.mfds.go.kr/pbp/cmn/itemImageDow...          KD   \n4      https://nedrug.mfds.go.kr/pbp/cmn/itemImageDow...         ISP   \n...                                                  ...         ...   \n24705  https://nedrug.mfds.go.kr/pbp/cmn/itemImageDow...          MJ   \n24706  https://nedrug.mfds.go.kr/pbp/cmn/itemImageDow...         ISP   \n24707  https://nedrug.mfds.go.kr/pbp/cmn/itemImageDow...         ISP   \n24708  https://nedrug.mfds.go.kr/pbp/cmn/itemImageDow...       FT 20   \n24709  https://nedrug.mfds.go.kr/pbp/cmn/itemImageDow...     DTT DTT   \n\n      PRINT_BACK DRUG_SHAPE  ... FORM_CODE_NAME MARK_CODE_FRONT_ANAL  \\\n0            NaN         원형  ...            당의정                  NaN   \n1             LT         원형  ...          필름코팅정                  NaN   \n2            NaN         원형  ...             정제                  NaN   \n3            분할선        장방형  ...          필름코팅정                  NaN   \n4          D분할선T         원형  ...          필름코팅정                  NaN   \n...          ...        ...  ...            ...                  ...   \n24705         VG         원형  ...             나정                  NaN   \n24706         M4        타원형  ...      추어블정(저작정)                  NaN   \n24707         M5         원형  ...      추어블정(저작정)                  NaN   \n24708        NaN        장방형  ...      경질캡슐제, 정제                  NaN   \n24709        NaN        장방형  ...      경질캡슐제, 산제                  NaN   \n\n      MARK_CODE_BACK_ANAL MARK_CODE_FRONT_IMG MARK_CODE_BACK_IMG  \\\n0                     NaN                 NaN                NaN   \n1                     NaN                 NaN                NaN   \n2                     NaN                 NaN                NaN   \n3                     NaN                 NaN                NaN   \n4                     NaN                 NaN                NaN   \n...                   ...                 ...                ...   \n24705                 NaN                 NaN                NaN   \n24706                 NaN                 NaN                NaN   \n24707                 NaN                 NaN                NaN   \n24708                 NaN                 NaN                NaN   \n24709                 NaN                 NaN                NaN   \n\n                                     ITEM_ENG_NAME CHANGE_DATE  \\\n0                                              NaN  20130129.0   \n1                                              NaN  20140130.0   \n2                                              NaN  20170901.0   \n3                                              NaN  20211223.0   \n4                                              NaN  20200630.0   \n...                                            ...         ...   \n24705                        Vildaglip M Tab. 50mg  20220919.0   \n24706                                          NaN  20220801.0   \n24707                                          NaN  20220907.0   \n24708  Folxetin Cap. 20mg(fluoxeine hydrochloride)  20220725.0   \n24709                                          NaN         NaN   \n\n       MARK_CODE_FRONT  MARK_CODE_BACK   EDI_CODE  \n0                  NaN             NaN        NaN  \n1                  NaN             NaN        NaN  \n2                  NaN             NaN        NaN  \n3                  NaN             NaN  648102540  \n4                  NaN             NaN  655402870  \n...                ...             ...        ...  \n24705              NaN             NaN  622804670  \n24706              NaN             NaN  655404260  \n24707              NaN             NaN  655404270  \n24708              NaN             NaN        NaN  \n24709              NaN             NaN        NaN  \n\n[24710 rows x 32 columns]",
      "text/html": "<div>\n<style scoped>\n    .dataframe tbody tr th:only-of-type {\n        vertical-align: middle;\n    }\n\n    .dataframe tbody tr th {\n        vertical-align: top;\n    }\n\n    .dataframe thead th {\n        text-align: right;\n    }\n</style>\n<table border=\"1\" class=\"dataframe\">\n  <thead>\n    <tr style=\"text-align: right;\">\n      <th></th>\n      <th>number</th>\n      <th>ITEM_SEQ</th>\n      <th>ITEM_NAME</th>\n      <th>ENTP_SEQ</th>\n      <th>ENTP_NAME</th>\n      <th>CHART</th>\n      <th>ITEM_IMAGE</th>\n      <th>PRINT_FRONT</th>\n      <th>PRINT_BACK</th>\n      <th>DRUG_SHAPE</th>\n      <th>...</th>\n      <th>FORM_CODE_NAME</th>\n      <th>MARK_CODE_FRONT_ANAL</th>\n      <th>MARK_CODE_BACK_ANAL</th>\n      <th>MARK_CODE_FRONT_IMG</th>\n      <th>MARK_CODE_BACK_IMG</th>\n      <th>ITEM_ENG_NAME</th>\n      <th>CHANGE_DATE</th>\n      <th>MARK_CODE_FRONT</th>\n      <th>MARK_CODE_BACK</th>\n      <th>EDI_CODE</th>\n    </tr>\n  </thead>\n  <tbody>\n    <tr>\n      <th>0</th>\n      <td>1</td>\n      <td>200808876</td>\n      <td>가스디알정50밀리그램(디메크로틴산마그네슘)</td>\n      <td>19540006</td>\n      <td>일동제약(주)</td>\n      <td>녹색의 원형 필름코팅정</td>\n      <td>https://nedrug.mfds.go.kr/pbp/cmn/itemImageDow...</td>\n      <td>IDG</td>\n      <td>NaN</td>\n      <td>원형</td>\n      <td>...</td>\n      <td>당의정</td>\n      <td>NaN</td>\n      <td>NaN</td>\n      <td>NaN</td>\n      <td>NaN</td>\n      <td>NaN</td>\n      <td>20130129.0</td>\n      <td>NaN</td>\n      <td>NaN</td>\n      <td>NaN</td>\n    </tr>\n    <tr>\n      <th>1</th>\n      <td>2</td>\n      <td>200808877</td>\n      <td>페라트라정2.5밀리그램(레트로졸)</td>\n      <td>19560004</td>\n      <td>(주)유한양행</td>\n      <td>어두운 황색의 원형 필름코팅정</td>\n      <td>https://nedrug.mfds.go.kr/pbp/cmn/itemImageDow...</td>\n      <td>YH</td>\n      <td>LT</td>\n      <td>원형</td>\n      <td>...</td>\n      <td>필름코팅정</td>\n      <td>NaN</td>\n      <td>NaN</td>\n      <td>NaN</td>\n      <td>NaN</td>\n      <td>NaN</td>\n      <td>20140130.0</td>\n      <td>NaN</td>\n      <td>NaN</td>\n      <td>NaN</td>\n    </tr>\n    <tr>\n      <th>2</th>\n      <td>3</td>\n      <td>200808948</td>\n      <td>졸뎀속붕정(졸피뎀타르타르산염)</td>\n      <td>20080422</td>\n      <td>보령제약(주)</td>\n      <td>흰색의 원형 구강붕해정제</td>\n      <td>https://nedrug.mfds.go.kr/pbp/cmn/itemImageDow...</td>\n      <td>NaN</td>\n      <td>NaN</td>\n      <td>원형</td>\n      <td>...</td>\n      <td>정제</td>\n      <td>NaN</td>\n      <td>NaN</td>\n      <td>NaN</td>\n      <td>NaN</td>\n      <td>NaN</td>\n      <td>20170901.0</td>\n      <td>NaN</td>\n      <td>NaN</td>\n      <td>NaN</td>\n    </tr>\n    <tr>\n      <th>3</th>\n      <td>4</td>\n      <td>200809076</td>\n      <td>가스프렌정(모사프리드시트르산염이수화물)</td>\n      <td>19760002</td>\n      <td>경동제약(주)</td>\n      <td>분할선을 가진 흰색의 장방형 필름코팅정제</td>\n      <td>https://nedrug.mfds.go.kr/pbp/cmn/itemImageDow...</td>\n      <td>KD</td>\n      <td>분할선</td>\n      <td>장방형</td>\n      <td>...</td>\n      <td>필름코팅정</td>\n      <td>NaN</td>\n      <td>NaN</td>\n      <td>NaN</td>\n      <td>NaN</td>\n      <td>NaN</td>\n      <td>20211223.0</td>\n      <td>NaN</td>\n      <td>NaN</td>\n      <td>648102540</td>\n    </tr>\n    <tr>\n      <th>4</th>\n      <td>5</td>\n      <td>200809276</td>\n      <td>디텐션정80밀리그램(발사르탄)</td>\n      <td>19700003</td>\n      <td>일성신약(주)</td>\n      <td>주황색의 원형 필름코팅정</td>\n      <td>https://nedrug.mfds.go.kr/pbp/cmn/itemImageDow...</td>\n      <td>ISP</td>\n      <td>D분할선T</td>\n      <td>원형</td>\n      <td>...</td>\n      <td>필름코팅정</td>\n      <td>NaN</td>\n      <td>NaN</td>\n      <td>NaN</td>\n      <td>NaN</td>\n      <td>NaN</td>\n      <td>20200630.0</td>\n      <td>NaN</td>\n      <td>NaN</td>\n      <td>655402870</td>\n    </tr>\n    <tr>\n      <th>...</th>\n      <td>...</td>\n      <td>...</td>\n      <td>...</td>\n      <td>...</td>\n      <td>...</td>\n      <td>...</td>\n      <td>...</td>\n      <td>...</td>\n      <td>...</td>\n      <td>...</td>\n      <td>...</td>\n      <td>...</td>\n      <td>...</td>\n      <td>...</td>\n      <td>...</td>\n      <td>...</td>\n      <td>...</td>\n      <td>...</td>\n      <td>...</td>\n      <td>...</td>\n      <td>...</td>\n    </tr>\n    <tr>\n      <th>24705</th>\n      <td>24706</td>\n      <td>202102255</td>\n      <td>빌다글립엠정50밀리그램(빌다글립틴)</td>\n      <td>19550012</td>\n      <td>(주)마더스제약</td>\n      <td>흰색 내지 밝은 노란색을 띠는 원형 정제</td>\n      <td>https://nedrug.mfds.go.kr/pbp/cmn/itemImageDow...</td>\n      <td>MJ</td>\n      <td>VG</td>\n      <td>원형</td>\n      <td>...</td>\n      <td>나정</td>\n      <td>NaN</td>\n      <td>NaN</td>\n      <td>NaN</td>\n      <td>NaN</td>\n      <td>Vildaglip M Tab. 50mg</td>\n      <td>20220919.0</td>\n      <td>NaN</td>\n      <td>NaN</td>\n      <td>622804670</td>\n    </tr>\n    <tr>\n      <th>24706</th>\n      <td>24707</td>\n      <td>201903260</td>\n      <td>몬카츄정4밀리그램(몬테루카스트나트륨)</td>\n      <td>19700003</td>\n      <td>일성신약(주)</td>\n      <td>양면이 볼록한 타원형의 씹어먹는 분홍색 정제</td>\n      <td>https://nedrug.mfds.go.kr/pbp/cmn/itemImageDow...</td>\n      <td>ISP</td>\n      <td>M4</td>\n      <td>타원형</td>\n      <td>...</td>\n      <td>추어블정(저작정)</td>\n      <td>NaN</td>\n      <td>NaN</td>\n      <td>NaN</td>\n      <td>NaN</td>\n      <td>NaN</td>\n      <td>20220801.0</td>\n      <td>NaN</td>\n      <td>NaN</td>\n      <td>655404260</td>\n    </tr>\n    <tr>\n      <th>24707</th>\n      <td>24708</td>\n      <td>201903261</td>\n      <td>몬카츄정5밀리그램(몬테루카스트나트륨)</td>\n      <td>19700003</td>\n      <td>일성신약(주)</td>\n      <td>양면이 볼록한 원형의 씹어먹는 분홍색 정제</td>\n      <td>https://nedrug.mfds.go.kr/pbp/cmn/itemImageDow...</td>\n      <td>ISP</td>\n      <td>M5</td>\n      <td>원형</td>\n      <td>...</td>\n      <td>추어블정(저작정)</td>\n      <td>NaN</td>\n      <td>NaN</td>\n      <td>NaN</td>\n      <td>NaN</td>\n      <td>NaN</td>\n      <td>20220907.0</td>\n      <td>NaN</td>\n      <td>NaN</td>\n      <td>655404270</td>\n    </tr>\n    <tr>\n      <th>24708</th>\n      <td>24709</td>\n      <td>202106679</td>\n      <td>폴세틴캡슐20밀리그램(플루옥세틴염산염)</td>\n      <td>19840009</td>\n      <td>(주)알피바이오</td>\n      <td>흰색 내지 밝은 회색의 분말을 함유한 상,하부 연한 노랑색의 경질캡슐제</td>\n      <td>https://nedrug.mfds.go.kr/pbp/cmn/itemImageDow...</td>\n      <td>FT 20</td>\n      <td>NaN</td>\n      <td>장방형</td>\n      <td>...</td>\n      <td>경질캡슐제, 정제</td>\n      <td>NaN</td>\n      <td>NaN</td>\n      <td>NaN</td>\n      <td>NaN</td>\n      <td>Folxetin Cap. 20mg(fluoxeine hydrochloride)</td>\n      <td>20220725.0</td>\n      <td>NaN</td>\n      <td>NaN</td>\n      <td>NaN</td>\n    </tr>\n    <tr>\n      <th>24709</th>\n      <td>24710</td>\n      <td>202102262</td>\n      <td>덴티텐캡슐(청위산)</td>\n      <td>19840009</td>\n      <td>(주)알피바이오</td>\n      <td>갈색의 분말이 충전된 상부 옅은 회적색, 하부 흰색의 경질캡슐제</td>\n      <td>https://nedrug.mfds.go.kr/pbp/cmn/itemImageDow...</td>\n      <td>DTT DTT</td>\n      <td>NaN</td>\n      <td>장방형</td>\n      <td>...</td>\n      <td>경질캡슐제, 산제</td>\n      <td>NaN</td>\n      <td>NaN</td>\n      <td>NaN</td>\n      <td>NaN</td>\n      <td>NaN</td>\n      <td>NaN</td>\n      <td>NaN</td>\n      <td>NaN</td>\n      <td>NaN</td>\n    </tr>\n  </tbody>\n</table>\n<p>24710 rows × 32 columns</p>\n</div>"
     },
     "execution_count": 38,
     "metadata": {},
     "output_type": "execute_result"
    }
   ],
   "source": [
    "df"
   ],
   "metadata": {
    "collapsed": false,
    "pycharm": {
     "name": "#%%\n"
    }
   }
  },
  {
   "cell_type": "code",
   "execution_count": 39,
   "outputs": [],
   "source": [
    "select_form_list = ['필름코팅정', '나정', '경질캡슐제, 산제', '연질캡슐제, 액상', '연질캡슐제, 현탁상', '서방성필름코팅정', '장용성필름코팅정', '당의정', '경질캡슐제, 과립제', '다층정']"
   ],
   "metadata": {
    "collapsed": false,
    "pycharm": {
     "name": "#%%\n"
    }
   }
  },
  {
   "cell_type": "code",
   "execution_count": 40,
   "outputs": [],
   "source": [
    "select_feature_list = ['number', 'ITEM_NAME', 'ITEM_IMAGE', 'PRINT_FRONT', 'PRINT_BACK', 'DRUG_SHAPE', 'COLOR_CLASS1',\n",
    "       'COLOR_CLASS2', 'LINE_FRONT', 'LINE_BACK', 'FORM_CODE_NAME', 'MARK_CODE_FRONT_IMG', 'MARK_CODE_BACK_IMG']"
   ],
   "metadata": {
    "collapsed": false,
    "pycharm": {
     "name": "#%%\n"
    }
   }
  },
  {
   "cell_type": "code",
   "execution_count": 41,
   "outputs": [],
   "source": [
    "df = df[df['FORM_CODE_NAME'].isin(select_form_list)]"
   ],
   "metadata": {
    "collapsed": false,
    "pycharm": {
     "name": "#%%\n"
    }
   }
  },
  {
   "cell_type": "code",
   "execution_count": 42,
   "outputs": [],
   "source": [
    "df = df[select_feature_list]"
   ],
   "metadata": {
    "collapsed": false,
    "pycharm": {
     "name": "#%%\n"
    }
   }
  },
  {
   "cell_type": "code",
   "execution_count": 44,
   "outputs": [],
   "source": [
    "df = df[df['ITEM_NAME'] != '지트람엑스엘서방정200밀리그람(트라마돌염산염)']"
   ],
   "metadata": {
    "collapsed": false,
    "pycharm": {
     "name": "#%%\n"
    }
   }
  },
  {
   "cell_type": "code",
   "execution_count": 45,
   "outputs": [
    {
     "name": "stdout",
     "output_type": "stream",
     "text": [
      "<class 'pandas.core.frame.DataFrame'>\n",
      "Int64Index: 23320 entries, 0 to 24709\n",
      "Data columns (total 13 columns):\n",
      " #   Column               Non-Null Count  Dtype \n",
      "---  ------               --------------  ----- \n",
      " 0   number               23320 non-null  int64 \n",
      " 1   ITEM_NAME            23320 non-null  object\n",
      " 2   ITEM_IMAGE           23320 non-null  object\n",
      " 3   PRINT_FRONT          23094 non-null  object\n",
      " 4   PRINT_BACK           12059 non-null  object\n",
      " 5   DRUG_SHAPE           23320 non-null  object\n",
      " 6   COLOR_CLASS1         23320 non-null  object\n",
      " 7   COLOR_CLASS2         3609 non-null   object\n",
      " 8   LINE_FRONT           2112 non-null   object\n",
      " 9   LINE_BACK            2983 non-null   object\n",
      " 10  FORM_CODE_NAME       23320 non-null  object\n",
      " 11  MARK_CODE_FRONT_IMG  2217 non-null   object\n",
      " 12  MARK_CODE_BACK_IMG   583 non-null    object\n",
      "dtypes: int64(1), object(12)\n",
      "memory usage: 2.5+ MB\n"
     ]
    }
   ],
   "source": [
    "df.info()"
   ],
   "metadata": {
    "collapsed": false,
    "pycharm": {
     "name": "#%%\n"
    }
   }
  },
  {
   "cell_type": "code",
   "execution_count": 46,
   "outputs": [
    {
     "data": {
      "text/plain": "   number                ITEM_NAME  \\\n0       1  가스디알정50밀리그램(디메크로틴산마그네슘)   \n1       2       페라트라정2.5밀리그램(레트로졸)   \n3       4    가스프렌정(모사프리드시트르산염이수화물)   \n4       5         디텐션정80밀리그램(발사르탄)   \n5       6               바르탄정(발사르탄)   \n\n                                          ITEM_IMAGE PRINT_FRONT PRINT_BACK  \\\n0  https://nedrug.mfds.go.kr/pbp/cmn/itemImageDow...         IDG        NaN   \n1  https://nedrug.mfds.go.kr/pbp/cmn/itemImageDow...          YH         LT   \n3  https://nedrug.mfds.go.kr/pbp/cmn/itemImageDow...          KD        분할선   \n4  https://nedrug.mfds.go.kr/pbp/cmn/itemImageDow...         ISP      D분할선T   \n5  https://nedrug.mfds.go.kr/pbp/cmn/itemImageDow...       V분할선T        HS8   \n\n  DRUG_SHAPE COLOR_CLASS1 COLOR_CLASS2 LINE_FRONT LINE_BACK FORM_CODE_NAME  \\\n0         원형           연두          NaN        NaN       NaN            당의정   \n1         원형           노랑          NaN        NaN       NaN          필름코팅정   \n3        장방형           하양          NaN        NaN         -          필름코팅정   \n4         원형           분홍          NaN        NaN         -          필름코팅정   \n5         원형           분홍          NaN          -       NaN          필름코팅정   \n\n  MARK_CODE_FRONT_IMG MARK_CODE_BACK_IMG  \n0                 NaN                NaN  \n1                 NaN                NaN  \n3                 NaN                NaN  \n4                 NaN                NaN  \n5                 NaN                NaN  ",
      "text/html": "<div>\n<style scoped>\n    .dataframe tbody tr th:only-of-type {\n        vertical-align: middle;\n    }\n\n    .dataframe tbody tr th {\n        vertical-align: top;\n    }\n\n    .dataframe thead th {\n        text-align: right;\n    }\n</style>\n<table border=\"1\" class=\"dataframe\">\n  <thead>\n    <tr style=\"text-align: right;\">\n      <th></th>\n      <th>number</th>\n      <th>ITEM_NAME</th>\n      <th>ITEM_IMAGE</th>\n      <th>PRINT_FRONT</th>\n      <th>PRINT_BACK</th>\n      <th>DRUG_SHAPE</th>\n      <th>COLOR_CLASS1</th>\n      <th>COLOR_CLASS2</th>\n      <th>LINE_FRONT</th>\n      <th>LINE_BACK</th>\n      <th>FORM_CODE_NAME</th>\n      <th>MARK_CODE_FRONT_IMG</th>\n      <th>MARK_CODE_BACK_IMG</th>\n    </tr>\n  </thead>\n  <tbody>\n    <tr>\n      <th>0</th>\n      <td>1</td>\n      <td>가스디알정50밀리그램(디메크로틴산마그네슘)</td>\n      <td>https://nedrug.mfds.go.kr/pbp/cmn/itemImageDow...</td>\n      <td>IDG</td>\n      <td>NaN</td>\n      <td>원형</td>\n      <td>연두</td>\n      <td>NaN</td>\n      <td>NaN</td>\n      <td>NaN</td>\n      <td>당의정</td>\n      <td>NaN</td>\n      <td>NaN</td>\n    </tr>\n    <tr>\n      <th>1</th>\n      <td>2</td>\n      <td>페라트라정2.5밀리그램(레트로졸)</td>\n      <td>https://nedrug.mfds.go.kr/pbp/cmn/itemImageDow...</td>\n      <td>YH</td>\n      <td>LT</td>\n      <td>원형</td>\n      <td>노랑</td>\n      <td>NaN</td>\n      <td>NaN</td>\n      <td>NaN</td>\n      <td>필름코팅정</td>\n      <td>NaN</td>\n      <td>NaN</td>\n    </tr>\n    <tr>\n      <th>3</th>\n      <td>4</td>\n      <td>가스프렌정(모사프리드시트르산염이수화물)</td>\n      <td>https://nedrug.mfds.go.kr/pbp/cmn/itemImageDow...</td>\n      <td>KD</td>\n      <td>분할선</td>\n      <td>장방형</td>\n      <td>하양</td>\n      <td>NaN</td>\n      <td>NaN</td>\n      <td>-</td>\n      <td>필름코팅정</td>\n      <td>NaN</td>\n      <td>NaN</td>\n    </tr>\n    <tr>\n      <th>4</th>\n      <td>5</td>\n      <td>디텐션정80밀리그램(발사르탄)</td>\n      <td>https://nedrug.mfds.go.kr/pbp/cmn/itemImageDow...</td>\n      <td>ISP</td>\n      <td>D분할선T</td>\n      <td>원형</td>\n      <td>분홍</td>\n      <td>NaN</td>\n      <td>NaN</td>\n      <td>-</td>\n      <td>필름코팅정</td>\n      <td>NaN</td>\n      <td>NaN</td>\n    </tr>\n    <tr>\n      <th>5</th>\n      <td>6</td>\n      <td>바르탄정(발사르탄)</td>\n      <td>https://nedrug.mfds.go.kr/pbp/cmn/itemImageDow...</td>\n      <td>V분할선T</td>\n      <td>HS8</td>\n      <td>원형</td>\n      <td>분홍</td>\n      <td>NaN</td>\n      <td>-</td>\n      <td>NaN</td>\n      <td>필름코팅정</td>\n      <td>NaN</td>\n      <td>NaN</td>\n    </tr>\n  </tbody>\n</table>\n</div>"
     },
     "execution_count": 46,
     "metadata": {},
     "output_type": "execute_result"
    }
   ],
   "source": [
    "df.head()"
   ],
   "metadata": {
    "collapsed": false,
    "pycharm": {
     "name": "#%%\n"
    }
   }
  },
  {
   "cell_type": "code",
   "execution_count": 47,
   "outputs": [],
   "source": [
    "df.to_csv(\"../preprocessed_pill_meta.csv\", index=False, encoding='cp949')"
   ],
   "metadata": {
    "collapsed": false,
    "pycharm": {
     "name": "#%%\n"
    }
   }
  }
 ],
 "metadata": {
  "kernelspec": {
   "display_name": "Python 3",
   "language": "python",
   "name": "python3"
  },
  "language_info": {
   "codemirror_mode": {
    "name": "ipython",
    "version": 2
   },
   "file_extension": ".py",
   "mimetype": "text/x-python",
   "name": "python",
   "nbconvert_exporter": "python",
   "pygments_lexer": "ipython2",
   "version": "2.7.6"
  }
 },
 "nbformat": 4,
 "nbformat_minor": 0
}