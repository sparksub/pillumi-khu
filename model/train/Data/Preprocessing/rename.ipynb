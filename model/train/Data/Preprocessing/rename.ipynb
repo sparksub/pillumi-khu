{
 "cells": [
  {
   "cell_type": "code",
   "execution_count": 56,
   "metadata": {
    "collapsed": true,
    "pycharm": {
     "name": "#%%\n"
    }
   },
   "outputs": [],
   "source": [
    "import os\n",
    "import glob\n",
    "import os.path as path\n",
    "import pandas as pd"
   ]
  },
  {
   "cell_type": "code",
   "execution_count": 72,
   "outputs": [],
   "source": [
    "df = pd.read_csv(\"preprocessed_pill_meta.csv\", encoding='cp949')"
   ],
   "metadata": {
    "collapsed": false,
    "pycharm": {
     "name": "#%%\n"
    }
   }
  },
  {
   "cell_type": "code",
   "execution_count": 75,
   "outputs": [
    {
     "data": {
      "text/plain": "FORM_CODE_NAME\n필름코팅정             12352\n나정                 4098\n경질캡슐제, 산제          2939\n연질캡슐제, 액상           915\n연질캡슐제, 현탁상          763\n서방성필름코팅정            661\n장용성필름코팅정            653\n당의정                 330\n경질캡슐제, 과립제          309\n다층정                 300\ndtype: int64"
     },
     "execution_count": 75,
     "metadata": {},
     "output_type": "execute_result"
    }
   ],
   "source": [
    "df[['FORM_CODE_NAME']].value_counts()"
   ],
   "metadata": {
    "collapsed": false,
    "pycharm": {
     "name": "#%%\n"
    }
   }
  },
  {
   "cell_type": "code",
   "execution_count": 58,
   "outputs": [
    {
     "data": {
      "text/plain": "       number                   ITEM_NAME  \\\n0           1     가스디알정50밀리그램(디메크로틴산마그네슘)   \n1           2          페라트라정2.5밀리그램(레트로졸)   \n2           4       가스프렌정(모사프리드시트르산염이수화물)   \n3           5            디텐션정80밀리그램(발사르탄)   \n4           6                  바르탄정(발사르탄)   \n...       ...                         ...   \n23315   24701          에소리움플러스정20/800밀리그램   \n23316   24702  글루파엑스알서방정850밀리그램(메트포르민염산염)   \n23317   24705             크레아진플러스정10/20mg   \n23318   24706         빌다글립엠정50밀리그램(빌다글립틴)   \n23319   24710                  덴티텐캡슐(청위산)   \n\n                                              ITEM_IMAGE PRINT_FRONT  \\\n0      https://nedrug.mfds.go.kr/pbp/cmn/itemImageDow...         IDG   \n1      https://nedrug.mfds.go.kr/pbp/cmn/itemImageDow...          YH   \n2      https://nedrug.mfds.go.kr/pbp/cmn/itemImageDow...          KD   \n3      https://nedrug.mfds.go.kr/pbp/cmn/itemImageDow...         ISP   \n4      https://nedrug.mfds.go.kr/pbp/cmn/itemImageDow...       V분할선T   \n...                                                  ...         ...   \n23315  https://nedrug.mfds.go.kr/pbp/cmn/itemImageDow...         820   \n23316  https://nedrug.mfds.go.kr/pbp/cmn/itemImageDow...       GX 마크   \n23317  https://nedrug.mfds.go.kr/pbp/cmn/itemImageDow...         C20   \n23318  https://nedrug.mfds.go.kr/pbp/cmn/itemImageDow...          MJ   \n23319  https://nedrug.mfds.go.kr/pbp/cmn/itemImageDow...     DTT DTT   \n\n      PRINT_BACK DRUG_SHAPE COLOR_CLASS1 COLOR_CLASS2 LINE_FRONT LINE_BACK  \\\n0            NaN         원형           연두          NaN        NaN       NaN   \n1             LT         원형           노랑          NaN        NaN       NaN   \n2            분할선        장방형           하양          NaN        NaN         -   \n3          D분할선T         원형           분홍          NaN        NaN         -   \n4            HS8         원형           분홍          NaN          -       NaN   \n...          ...        ...          ...          ...        ...       ...   \n23315         TC        타원형           분홍          NaN        NaN       NaN   \n23316        850        타원형           하양          NaN        NaN       NaN   \n23317        NaN         원형           하양          NaN        NaN       NaN   \n23318         VG         원형           하양          NaN        NaN       NaN   \n23319        NaN        장방형           주황           하양        NaN       NaN   \n\n      FORM_CODE_NAME                                MARK_CODE_FRONT_IMG  \\\n0                당의정                                                NaN   \n1              필름코팅정                                                NaN   \n2              필름코팅정                                                NaN   \n3              필름코팅정                                                NaN   \n4              필름코팅정                                                NaN   \n...              ...                                                ...   \n23315          필름코팅정                                                NaN   \n23316          필름코팅정  https://nedrug.mfds.go.kr/pbp/cmn/itemImageDow...   \n23317          필름코팅정                                                NaN   \n23318             나정                                                NaN   \n23319      경질캡슐제, 산제                                                NaN   \n\n      MARK_CODE_BACK_IMG  \n0                    NaN  \n1                    NaN  \n2                    NaN  \n3                    NaN  \n4                    NaN  \n...                  ...  \n23315                NaN  \n23316                NaN  \n23317                NaN  \n23318                NaN  \n23319                NaN  \n\n[23320 rows x 13 columns]",
      "text/html": "<div>\n<style scoped>\n    .dataframe tbody tr th:only-of-type {\n        vertical-align: middle;\n    }\n\n    .dataframe tbody tr th {\n        vertical-align: top;\n    }\n\n    .dataframe thead th {\n        text-align: right;\n    }\n</style>\n<table border=\"1\" class=\"dataframe\">\n  <thead>\n    <tr style=\"text-align: right;\">\n      <th></th>\n      <th>number</th>\n      <th>ITEM_NAME</th>\n      <th>ITEM_IMAGE</th>\n      <th>PRINT_FRONT</th>\n      <th>PRINT_BACK</th>\n      <th>DRUG_SHAPE</th>\n      <th>COLOR_CLASS1</th>\n      <th>COLOR_CLASS2</th>\n      <th>LINE_FRONT</th>\n      <th>LINE_BACK</th>\n      <th>FORM_CODE_NAME</th>\n      <th>MARK_CODE_FRONT_IMG</th>\n      <th>MARK_CODE_BACK_IMG</th>\n    </tr>\n  </thead>\n  <tbody>\n    <tr>\n      <th>0</th>\n      <td>1</td>\n      <td>가스디알정50밀리그램(디메크로틴산마그네슘)</td>\n      <td>https://nedrug.mfds.go.kr/pbp/cmn/itemImageDow...</td>\n      <td>IDG</td>\n      <td>NaN</td>\n      <td>원형</td>\n      <td>연두</td>\n      <td>NaN</td>\n      <td>NaN</td>\n      <td>NaN</td>\n      <td>당의정</td>\n      <td>NaN</td>\n      <td>NaN</td>\n    </tr>\n    <tr>\n      <th>1</th>\n      <td>2</td>\n      <td>페라트라정2.5밀리그램(레트로졸)</td>\n      <td>https://nedrug.mfds.go.kr/pbp/cmn/itemImageDow...</td>\n      <td>YH</td>\n      <td>LT</td>\n      <td>원형</td>\n      <td>노랑</td>\n      <td>NaN</td>\n      <td>NaN</td>\n      <td>NaN</td>\n      <td>필름코팅정</td>\n      <td>NaN</td>\n      <td>NaN</td>\n    </tr>\n    <tr>\n      <th>2</th>\n      <td>4</td>\n      <td>가스프렌정(모사프리드시트르산염이수화물)</td>\n      <td>https://nedrug.mfds.go.kr/pbp/cmn/itemImageDow...</td>\n      <td>KD</td>\n      <td>분할선</td>\n      <td>장방형</td>\n      <td>하양</td>\n      <td>NaN</td>\n      <td>NaN</td>\n      <td>-</td>\n      <td>필름코팅정</td>\n      <td>NaN</td>\n      <td>NaN</td>\n    </tr>\n    <tr>\n      <th>3</th>\n      <td>5</td>\n      <td>디텐션정80밀리그램(발사르탄)</td>\n      <td>https://nedrug.mfds.go.kr/pbp/cmn/itemImageDow...</td>\n      <td>ISP</td>\n      <td>D분할선T</td>\n      <td>원형</td>\n      <td>분홍</td>\n      <td>NaN</td>\n      <td>NaN</td>\n      <td>-</td>\n      <td>필름코팅정</td>\n      <td>NaN</td>\n      <td>NaN</td>\n    </tr>\n    <tr>\n      <th>4</th>\n      <td>6</td>\n      <td>바르탄정(발사르탄)</td>\n      <td>https://nedrug.mfds.go.kr/pbp/cmn/itemImageDow...</td>\n      <td>V분할선T</td>\n      <td>HS8</td>\n      <td>원형</td>\n      <td>분홍</td>\n      <td>NaN</td>\n      <td>-</td>\n      <td>NaN</td>\n      <td>필름코팅정</td>\n      <td>NaN</td>\n      <td>NaN</td>\n    </tr>\n    <tr>\n      <th>...</th>\n      <td>...</td>\n      <td>...</td>\n      <td>...</td>\n      <td>...</td>\n      <td>...</td>\n      <td>...</td>\n      <td>...</td>\n      <td>...</td>\n      <td>...</td>\n      <td>...</td>\n      <td>...</td>\n      <td>...</td>\n      <td>...</td>\n    </tr>\n    <tr>\n      <th>23315</th>\n      <td>24701</td>\n      <td>에소리움플러스정20/800밀리그램</td>\n      <td>https://nedrug.mfds.go.kr/pbp/cmn/itemImageDow...</td>\n      <td>820</td>\n      <td>TC</td>\n      <td>타원형</td>\n      <td>분홍</td>\n      <td>NaN</td>\n      <td>NaN</td>\n      <td>NaN</td>\n      <td>필름코팅정</td>\n      <td>NaN</td>\n      <td>NaN</td>\n    </tr>\n    <tr>\n      <th>23316</th>\n      <td>24702</td>\n      <td>글루파엑스알서방정850밀리그램(메트포르민염산염)</td>\n      <td>https://nedrug.mfds.go.kr/pbp/cmn/itemImageDow...</td>\n      <td>GX 마크</td>\n      <td>850</td>\n      <td>타원형</td>\n      <td>하양</td>\n      <td>NaN</td>\n      <td>NaN</td>\n      <td>NaN</td>\n      <td>필름코팅정</td>\n      <td>https://nedrug.mfds.go.kr/pbp/cmn/itemImageDow...</td>\n      <td>NaN</td>\n    </tr>\n    <tr>\n      <th>23317</th>\n      <td>24705</td>\n      <td>크레아진플러스정10/20mg</td>\n      <td>https://nedrug.mfds.go.kr/pbp/cmn/itemImageDow...</td>\n      <td>C20</td>\n      <td>NaN</td>\n      <td>원형</td>\n      <td>하양</td>\n      <td>NaN</td>\n      <td>NaN</td>\n      <td>NaN</td>\n      <td>필름코팅정</td>\n      <td>NaN</td>\n      <td>NaN</td>\n    </tr>\n    <tr>\n      <th>23318</th>\n      <td>24706</td>\n      <td>빌다글립엠정50밀리그램(빌다글립틴)</td>\n      <td>https://nedrug.mfds.go.kr/pbp/cmn/itemImageDow...</td>\n      <td>MJ</td>\n      <td>VG</td>\n      <td>원형</td>\n      <td>하양</td>\n      <td>NaN</td>\n      <td>NaN</td>\n      <td>NaN</td>\n      <td>나정</td>\n      <td>NaN</td>\n      <td>NaN</td>\n    </tr>\n    <tr>\n      <th>23319</th>\n      <td>24710</td>\n      <td>덴티텐캡슐(청위산)</td>\n      <td>https://nedrug.mfds.go.kr/pbp/cmn/itemImageDow...</td>\n      <td>DTT DTT</td>\n      <td>NaN</td>\n      <td>장방형</td>\n      <td>주황</td>\n      <td>하양</td>\n      <td>NaN</td>\n      <td>NaN</td>\n      <td>경질캡슐제, 산제</td>\n      <td>NaN</td>\n      <td>NaN</td>\n    </tr>\n  </tbody>\n</table>\n<p>23320 rows × 13 columns</p>\n</div>"
     },
     "execution_count": 58,
     "metadata": {},
     "output_type": "execute_result"
    }
   ],
   "source": [
    "df"
   ],
   "metadata": {
    "collapsed": false,
    "pycharm": {
     "name": "#%%\n"
    }
   }
  },
  {
   "cell_type": "code",
   "execution_count": 68,
   "outputs": [],
   "source": [
    "dir_path = '../separate/back/'\n",
    "prefix = 'back_'"
   ],
   "metadata": {
    "collapsed": false,
    "pycharm": {
     "name": "#%%\n"
    }
   }
  },
  {
   "cell_type": "code",
   "execution_count": 69,
   "outputs": [],
   "source": [
    "file_path_list = glob.glob(path.join(dir_path, '*.png'))\n",
    "file_path_list.sort()\n",
    "\n",
    "for each in file_path_list:\n",
    "    i = int(each[-9:-4])\n",
    "    if not (df['number'] == i).any():\n",
    "        os.remove(each)"
   ],
   "metadata": {
    "collapsed": false,
    "pycharm": {
     "name": "#%%\n"
    }
   }
  },
  {
   "cell_type": "code",
   "execution_count": 70,
   "outputs": [],
   "source": [
    "file_path_list = glob.glob(path.join(dir_path, '*.png'))\n",
    "file_path_list.sort()\n",
    "\n",
    "num = 1\n",
    "for each in file_path_list:\n",
    "    dst = prefix + str(num).zfill(5) + '.png'\n",
    "    dst = os.path.join(dir_path, dst)\n",
    "    os.rename(each, dst)\n",
    "    num += 1"
   ],
   "metadata": {
    "collapsed": false,
    "pycharm": {
     "name": "#%%\n"
    }
   }
  },
  {
   "cell_type": "code",
   "execution_count": 71,
   "outputs": [],
   "source": [
    "df.to_csv(\"../Data/preprocessed_pill_meta.csv\", encoding='cp949')"
   ],
   "metadata": {
    "collapsed": false,
    "pycharm": {
     "name": "#%%\n"
    }
   }
  },
  {
   "cell_type": "code",
   "execution_count": null,
   "outputs": [],
   "source": [],
   "metadata": {
    "collapsed": false,
    "pycharm": {
     "name": "#%%\n"
    }
   }
  }
 ],
 "metadata": {
  "kernelspec": {
   "display_name": "Python 3",
   "language": "python",
   "name": "python3"
  },
  "language_info": {
   "codemirror_mode": {
    "name": "ipython",
    "version": 2
   },
   "file_extension": ".py",
   "mimetype": "text/x-python",
   "name": "python",
   "nbconvert_exporter": "python",
   "pygments_lexer": "ipython2",
   "version": "2.7.6"
  }
 },
 "nbformat": 4,
 "nbformat_minor": 0
}