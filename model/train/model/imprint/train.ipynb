{
 "cells": [
  {
   "cell_type": "code",
   "execution_count": 1,
   "metadata": {
    "pycharm": {
     "name": "#%%\n"
    },
    "tags": []
   },
   "outputs": [
    {
     "name": "stderr",
     "output_type": "stream",
     "text": [
      "2022-11-21 18:48:43.371838: I tensorflow/core/platform/cpu_feature_guard.cc:193] This TensorFlow binary is optimized with oneAPI Deep Neural Network Library (oneDNN) to use the following CPU instructions in performance-critical operations:  AVX2 FMA\n",
      "To enable them in other operations, rebuild TensorFlow with the appropriate compiler flags.\n",
      "2022-11-21 18:48:43.817392: E tensorflow/stream_executor/cuda/cuda_blas.cc:2981] Unable to register cuBLAS factory: Attempting to register factory for plugin cuBLAS when one has already been registered\n",
      "2022-11-21 18:48:45.177030: W tensorflow/stream_executor/platform/default/dso_loader.cc:64] Could not load dynamic library 'libnvinfer.so.7'; dlerror: libnvinfer.so.7: cannot open shared object file: No such file or directory; LD_LIBRARY_PATH: /opt/ohpc/pub/apps/cuda/11.3/lib64\n",
      "2022-11-21 18:48:45.177189: W tensorflow/stream_executor/platform/default/dso_loader.cc:64] Could not load dynamic library 'libnvinfer_plugin.so.7'; dlerror: libnvinfer_plugin.so.7: cannot open shared object file: No such file or directory; LD_LIBRARY_PATH: /opt/ohpc/pub/apps/cuda/11.3/lib64\n",
      "2022-11-21 18:48:45.177209: W tensorflow/compiler/tf2tensorrt/utils/py_utils.cc:38] TF-TRT Warning: Cannot dlopen some TensorRT libraries. If you would like to use Nvidia GPU with TensorRT, please make sure the missing libraries mentioned above are installed properly.\n"
     ]
    }
   ],
   "source": [
    "import numpy as np\n",
    "import pandas as pd\n",
    "from pathlib import Path\n",
    "import os.path\n",
    "import matplotlib.pyplot as plt\n",
    "import tensorflow as tf\n",
    "import seaborn as sns\n",
    "from time import perf_counter\n",
    "from sklearn.model_selection import train_test_split\n",
    "from sklearn.metrics import classification_report,accuracy_score\n",
    "from IPython.display import Markdown, display\n",
    "from tensorflow.keras.preprocessing.image import ImageDataGenerator\n",
    "import cv2 as cv\n",
    "import glob\n",
    "from keras.models import Sequential\n",
    "from keras.layers import Dropout, Flatten, Dense\n",
    "from keras.models import Model\n",
    "from tensorflow import keras\n",
    "from tensorflow.keras import layers\n",
    "\n",
    "def printmd(string):\n",
    "    # Print with Markdowns\n",
    "    display(Markdown(string))"
   ]
  },
  {
   "cell_type": "markdown",
   "metadata": {
    "pycharm": {
     "name": "#%% md\n"
    }
   },
   "source": [
    "---"
   ]
  },
  {
   "cell_type": "markdown",
   "metadata": {},
   "source": [
    "## Load Data"
   ]
  },
  {
   "cell_type": "code",
   "execution_count": 52,
   "metadata": {},
   "outputs": [
    {
     "name": "stdout",
     "output_type": "stream",
     "text": [
      "(46640, 150, 150)\n",
      "(46640, 14549)\n"
     ]
    }
   ],
   "source": [
    "data = np.load('data.npz')\n",
    "x = data['x'] / 255\n",
    "y = data['y']\n",
    "num_classes = len(np.unique(y))\n",
    "y = keras.utils.to_categorical(y, num_classes)\n",
    "print(x.shape)\n",
    "print(y.shape)"
   ]
  },
  {
   "cell_type": "markdown",
   "metadata": {},
   "source": [
    "## Modeling (Simple CNN)"
   ]
  },
  {
   "cell_type": "code",
   "execution_count": 4,
   "metadata": {},
   "outputs": [],
   "source": [
    "input_shape = (150, 150, 1)"
   ]
  },
  {
   "cell_type": "code",
   "execution_count": 5,
   "metadata": {
    "collapsed": true,
    "jupyter": {
     "outputs_hidden": true
    },
    "pycharm": {
     "name": "#%%\n"
    },
    "tags": []
   },
   "outputs": [
    {
     "name": "stderr",
     "output_type": "stream",
     "text": [
      "2022-11-21 12:40:23.230676: I tensorflow/core/platform/cpu_feature_guard.cc:193] This TensorFlow binary is optimized with oneAPI Deep Neural Network Library (oneDNN) to use the following CPU instructions in performance-critical operations:  AVX2 FMA\n",
      "To enable them in other operations, rebuild TensorFlow with the appropriate compiler flags.\n",
      "2022-11-21 12:40:28.560312: I tensorflow/core/common_runtime/gpu/gpu_device.cc:1616] Created device /job:localhost/replica:0/task:0/device:GPU:0 with 10405 MB memory:  -> device: 0, name: NVIDIA GeForce GTX 1080 Ti, pci bus id: 0000:02:00.0, compute capability: 6.1\n",
      "2022-11-21 12:40:28.567410: I tensorflow/core/common_runtime/gpu/gpu_device.cc:1616] Created device /job:localhost/replica:0/task:0/device:GPU:1 with 10405 MB memory:  -> device: 1, name: NVIDIA GeForce GTX 1080 Ti, pci bus id: 0000:04:00.0, compute capability: 6.1\n",
      "2022-11-21 12:40:28.570059: I tensorflow/core/common_runtime/gpu/gpu_device.cc:1616] Created device /job:localhost/replica:0/task:0/device:GPU:2 with 10405 MB memory:  -> device: 2, name: NVIDIA GeForce GTX 1080 Ti, pci bus id: 0000:83:00.0, compute capability: 6.1\n",
      "2022-11-21 12:40:28.575207: I tensorflow/core/common_runtime/gpu/gpu_device.cc:1616] Created device /job:localhost/replica:0/task:0/device:GPU:3 with 10405 MB memory:  -> device: 3, name: NVIDIA GeForce GTX 1080 Ti, pci bus id: 0000:84:00.0, compute capability: 6.1\n"
     ]
    },
    {
     "name": "stdout",
     "output_type": "stream",
     "text": [
      "Model: \"sequential\"\n",
      "_________________________________________________________________\n",
      " Layer (type)                Output Shape              Param #   \n",
      "=================================================================\n",
      " conv2d (Conv2D)             (None, 148, 148, 32)      320       \n",
      "                                                                 \n",
      " max_pooling2d (MaxPooling2D  (None, 74, 74, 32)       0         \n",
      " )                                                               \n",
      "                                                                 \n",
      " conv2d_1 (Conv2D)           (None, 72, 72, 32)        9248      \n",
      "                                                                 \n",
      " max_pooling2d_1 (MaxPooling  (None, 36, 36, 32)       0         \n",
      " 2D)                                                             \n",
      "                                                                 \n",
      " flatten (Flatten)           (None, 41472)             0         \n",
      "                                                                 \n",
      " dense (Dense)               (None, 128)               5308544   \n",
      "                                                                 \n",
      " dense_1 (Dense)             (None, 14549)             1876821   \n",
      "                                                                 \n",
      "=================================================================\n",
      "Total params: 7,194,933\n",
      "Trainable params: 7,194,933\n",
      "Non-trainable params: 0\n",
      "_________________________________________________________________\n"
     ]
    }
   ],
   "source": [
    "cnn = tf.keras.models.Sequential()\n",
    "\n",
    "# Step 1 - Convolution\n",
    "cnn.add(tf.keras.layers.Conv2D(filters=32, kernel_size=3, activation='relu', input_shape=input_shape))\n",
    "\n",
    "# Step 2 - Pooling\n",
    "cnn.add(tf.keras.layers.MaxPool2D(pool_size=2, strides=2))\n",
    "\n",
    "# Adding convolutional layer\n",
    "cnn.add(tf.keras.layers.Conv2D(filters=32, kernel_size=3, activation='relu'))\n",
    "cnn.add(tf.keras.layers.MaxPool2D(pool_size=2, strides=2))\n",
    "\n",
    "# Step 3 - Flattening\n",
    "cnn.add(tf.keras.layers.Flatten())\n",
    "\n",
    "# Step 4 - Full Connection\n",
    "cnn.add(tf.keras.layers.Dense(units=128, activation='relu'))\n",
    "\n",
    "# Step 5 - Output Layer\n",
    "cnn.add(tf.keras.layers.Dense(units=num_classes, activation='softmax'))\n",
    "\n",
    "# Compiling the CNN\n",
    "cnn.compile(optimizer = 'adam',\n",
    "            loss = 'categorical_crossentropy',\n",
    "            metrics = ['accuracy'])\n",
    "cnn.summary()"
   ]
  },
  {
   "cell_type": "markdown",
   "metadata": {},
   "source": [
    "## Data Argumentation"
   ]
  },
  {
   "cell_type": "code",
   "execution_count": 7,
   "metadata": {},
   "outputs": [],
   "source": [
    "x = x.reshape(46640,150,150,1)"
   ]
  },
  {
   "cell_type": "code",
   "execution_count": 17,
   "metadata": {},
   "outputs": [
    {
     "ename": "NameError",
     "evalue": "name 'ImageDataGenerator' is not defined",
     "output_type": "error",
     "traceback": [
      "\u001b[0;31m---------------------------------------------------------------------------\u001b[0m",
      "\u001b[0;31mNameError\u001b[0m                                 Traceback (most recent call last)",
      "Input \u001b[0;32mIn [17]\u001b[0m, in \u001b[0;36m<cell line: 1>\u001b[0;34m()\u001b[0m\n\u001b[0;32m----> 1\u001b[0m data_generator \u001b[38;5;241m=\u001b[39m \u001b[43mImageDataGenerator\u001b[49m(\n\u001b[1;32m      2\u001b[0m     rotation_range\u001b[38;5;241m=\u001b[39m\u001b[38;5;241m180\u001b[39m,\n\u001b[1;32m      3\u001b[0m     brightness_range\u001b[38;5;241m=\u001b[39m(\u001b[38;5;241m0.9\u001b[39m, \u001b[38;5;241m1.1\u001b[39m)\n\u001b[1;32m      4\u001b[0m )\n\u001b[1;32m      5\u001b[0m data_generator\u001b[38;5;241m.\u001b[39mfit(x)\n",
      "\u001b[0;31mNameError\u001b[0m: name 'ImageDataGenerator' is not defined"
     ]
    }
   ],
   "source": [
    "data_generator = ImageDataGenerator(\n",
    "    rotation_range=180,\n",
    "    brightness_range=(0.9, 1.1)\n",
    ")\n",
    "data_generator.fit(x)"
   ]
  },
  {
   "cell_type": "markdown",
   "metadata": {},
   "source": [
    "## Model Training"
   ]
  },
  {
   "cell_type": "code",
   "execution_count": 9,
   "metadata": {
    "collapsed": true,
    "jupyter": {
     "outputs_hidden": true
    },
    "tags": []
   },
   "outputs": [
    {
     "name": "stderr",
     "output_type": "stream",
     "text": [
      "/tmp/ipykernel_56456/3168405275.py:1: UserWarning: `Model.fit_generator` is deprecated and will be removed in a future version. Please use `Model.fit`, which supports generators.\n",
      "  cnn.fit_generator(data_generator.flow(x_ag, y, batch_size=32), steps_per_epoch=len(x_ag) / 32,\n"
     ]
    },
    {
     "name": "stdout",
     "output_type": "stream",
     "text": [
      "Epoch 1/1000\n"
     ]
    },
    {
     "name": "stderr",
     "output_type": "stream",
     "text": [
      "2022-11-21 12:41:29.103580: I tensorflow/stream_executor/cuda/cuda_dnn.cc:384] Loaded cuDNN version 8201\n"
     ]
    },
    {
     "name": "stdout",
     "output_type": "stream",
     "text": [
      "1457/1457 [==============================] - 225s 150ms/step - loss: 6.7078 - accuracy: 0.2585 - val_loss: 6.3204 - val_accuracy: 0.2767\n",
      "Epoch 2/1000\n",
      "1457/1457 [==============================] - 191s 131ms/step - loss: 6.0591 - accuracy: 0.2848 - val_loss: 5.8540 - val_accuracy: 0.2919\n",
      "Epoch 3/1000\n",
      "1457/1457 [==============================] - 187s 128ms/step - loss: 5.7184 - accuracy: 0.2963 - val_loss: 5.5361 - val_accuracy: 0.3019\n",
      "Epoch 4/1000\n",
      "1457/1457 [==============================] - 187s 128ms/step - loss: 5.4175 - accuracy: 0.3062 - val_loss: 5.2401 - val_accuracy: 0.3114\n",
      "Epoch 5/1000\n",
      "1457/1457 [==============================] - 188s 129ms/step - loss: 5.1375 - accuracy: 0.3157 - val_loss: 4.9807 - val_accuracy: 0.3223\n",
      "Epoch 6/1000\n",
      "1457/1457 [==============================] - 186s 128ms/step - loss: 4.8705 - accuracy: 0.3260 - val_loss: 4.7148 - val_accuracy: 0.3325\n",
      "Epoch 7/1000\n",
      "1457/1457 [==============================] - 188s 129ms/step - loss: 4.6182 - accuracy: 0.3341 - val_loss: 4.4584 - val_accuracy: 0.3414\n",
      "Epoch 8/1000\n",
      "1457/1457 [==============================] - 186s 128ms/step - loss: 4.3749 - accuracy: 0.3433 - val_loss: 4.2631 - val_accuracy: 0.3458\n",
      "Epoch 9/1000\n",
      "1457/1457 [==============================] - 187s 128ms/step - loss: 4.1458 - accuracy: 0.3508 - val_loss: 4.0871 - val_accuracy: 0.3541\n",
      "Epoch 10/1000\n",
      "1457/1457 [==============================] - 187s 129ms/step - loss: 3.9318 - accuracy: 0.3596 - val_loss: 3.8222 - val_accuracy: 0.3654\n",
      "Epoch 11/1000\n",
      "1457/1457 [==============================] - 187s 128ms/step - loss: 3.7370 - accuracy: 0.3655 - val_loss: 3.6104 - val_accuracy: 0.3754\n",
      "Epoch 12/1000\n",
      "1457/1457 [==============================] - 187s 128ms/step - loss: 3.5402 - accuracy: 0.3749 - val_loss: 3.5335 - val_accuracy: 0.3777\n",
      "Epoch 13/1000\n",
      "1457/1457 [==============================] - 192s 132ms/step - loss: 3.3692 - accuracy: 0.3864 - val_loss: 3.2963 - val_accuracy: 0.3972\n",
      "Epoch 14/1000\n",
      "1457/1457 [==============================] - 186s 128ms/step - loss: 3.2115 - accuracy: 0.3959 - val_loss: 3.1142 - val_accuracy: 0.4101\n",
      "Epoch 15/1000\n",
      "1457/1457 [==============================] - 187s 128ms/step - loss: 3.0744 - accuracy: 0.4086 - val_loss: 3.0802 - val_accuracy: 0.4172\n",
      "Epoch 16/1000\n",
      "1457/1457 [==============================] - 188s 129ms/step - loss: 2.9434 - accuracy: 0.4211 - val_loss: 2.8761 - val_accuracy: 0.4363\n",
      "Epoch 17/1000\n",
      "1457/1457 [==============================] - 186s 128ms/step - loss: 2.8177 - accuracy: 0.4358 - val_loss: 2.7838 - val_accuracy: 0.4458\n",
      "Epoch 18/1000\n",
      "1457/1457 [==============================] - 187s 128ms/step - loss: 2.7011 - accuracy: 0.4498 - val_loss: 2.7205 - val_accuracy: 0.4595\n",
      "Epoch 19/1000\n",
      "1457/1457 [==============================] - 187s 129ms/step - loss: 2.6040 - accuracy: 0.4598 - val_loss: 2.5364 - val_accuracy: 0.4822\n",
      "Epoch 20/1000\n",
      "1457/1457 [==============================] - 187s 128ms/step - loss: 2.5053 - accuracy: 0.4735 - val_loss: 2.5786 - val_accuracy: 0.4840\n",
      "Epoch 21/1000\n",
      "1457/1457 [==============================] - 187s 128ms/step - loss: 2.4196 - accuracy: 0.4880 - val_loss: 2.3792 - val_accuracy: 0.5042\n",
      "Epoch 22/1000\n",
      "1457/1457 [==============================] - 186s 128ms/step - loss: 2.3389 - accuracy: 0.4985 - val_loss: 2.4388 - val_accuracy: 0.4990\n",
      "Epoch 23/1000\n",
      "1457/1457 [==============================] - 191s 131ms/step - loss: 2.2637 - accuracy: 0.5104 - val_loss: 2.1787 - val_accuracy: 0.5354\n",
      "Epoch 24/1000\n",
      "1457/1457 [==============================] - 187s 128ms/step - loss: 2.2059 - accuracy: 0.5203 - val_loss: 2.1380 - val_accuracy: 0.5415\n",
      "Epoch 25/1000\n",
      "1457/1457 [==============================] - 188s 129ms/step - loss: 2.1459 - accuracy: 0.5289 - val_loss: 2.1148 - val_accuracy: 0.5464\n",
      "Epoch 26/1000\n",
      "1457/1457 [==============================] - 188s 129ms/step - loss: 2.0790 - accuracy: 0.5394 - val_loss: 2.0815 - val_accuracy: 0.5527\n",
      "Epoch 27/1000\n",
      "1457/1457 [==============================] - 188s 129ms/step - loss: 2.0183 - accuracy: 0.5505 - val_loss: 2.0632 - val_accuracy: 0.5552\n",
      "Epoch 28/1000\n",
      "1457/1457 [==============================] - 187s 128ms/step - loss: 1.9647 - accuracy: 0.5621 - val_loss: 1.9355 - val_accuracy: 0.5781\n",
      "Epoch 29/1000\n",
      "1457/1457 [==============================] - 186s 128ms/step - loss: 1.9167 - accuracy: 0.5714 - val_loss: 2.1345 - val_accuracy: 0.5528\n",
      "Epoch 30/1000\n",
      "1457/1457 [==============================] - 191s 131ms/step - loss: 1.8633 - accuracy: 0.5780 - val_loss: 2.0107 - val_accuracy: 0.5685\n",
      "Epoch 31/1000\n",
      "1457/1457 [==============================] - 187s 128ms/step - loss: 1.8176 - accuracy: 0.5872 - val_loss: 1.8240 - val_accuracy: 0.5984\n",
      "Epoch 32/1000\n",
      "1457/1457 [==============================] - 186s 128ms/step - loss: 1.7648 - accuracy: 0.5986 - val_loss: 1.8637 - val_accuracy: 0.5948\n",
      "Epoch 33/1000\n",
      "1457/1457 [==============================] - 186s 128ms/step - loss: 1.7190 - accuracy: 0.6056 - val_loss: 1.7675 - val_accuracy: 0.6074\n",
      "Epoch 34/1000\n",
      "1457/1457 [==============================] - 187s 128ms/step - loss: 1.6784 - accuracy: 0.6134 - val_loss: 1.7545 - val_accuracy: 0.6184\n",
      "Epoch 35/1000\n",
      "1457/1457 [==============================] - 186s 127ms/step - loss: 1.6508 - accuracy: 0.6191 - val_loss: 1.7906 - val_accuracy: 0.6034\n",
      "Epoch 36/1000\n",
      "1457/1457 [==============================] - 187s 128ms/step - loss: 1.6166 - accuracy: 0.6265 - val_loss: 1.7062 - val_accuracy: 0.6173\n",
      "Epoch 37/1000\n",
      "1457/1457 [==============================] - 186s 128ms/step - loss: 1.5841 - accuracy: 0.6336 - val_loss: 1.5918 - val_accuracy: 0.6411\n",
      "Epoch 38/1000\n",
      "1457/1457 [==============================] - 187s 128ms/step - loss: 1.5342 - accuracy: 0.6451 - val_loss: 1.5967 - val_accuracy: 0.6361\n",
      "Epoch 39/1000\n",
      "1457/1457 [==============================] - 186s 128ms/step - loss: 1.5114 - accuracy: 0.6475 - val_loss: 1.5466 - val_accuracy: 0.6452\n",
      "Epoch 40/1000\n",
      "1457/1457 [==============================] - 187s 128ms/step - loss: 1.4804 - accuracy: 0.6511 - val_loss: 1.5169 - val_accuracy: 0.6603\n",
      "Epoch 41/1000\n",
      "1457/1457 [==============================] - 187s 128ms/step - loss: 1.4614 - accuracy: 0.6582 - val_loss: 1.6439 - val_accuracy: 0.6276\n",
      "Epoch 42/1000\n",
      "1457/1457 [==============================] - 193s 132ms/step - loss: 1.4195 - accuracy: 0.6662 - val_loss: 1.5197 - val_accuracy: 0.6555\n",
      "Epoch 43/1000\n",
      "1457/1457 [==============================] - 188s 129ms/step - loss: 1.3944 - accuracy: 0.6717 - val_loss: 1.4603 - val_accuracy: 0.6666\n",
      "Epoch 44/1000\n",
      "1457/1457 [==============================] - 188s 129ms/step - loss: 1.3750 - accuracy: 0.6738 - val_loss: 1.4187 - val_accuracy: 0.6738\n",
      "Epoch 45/1000\n",
      "1457/1457 [==============================] - 187s 128ms/step - loss: 1.3597 - accuracy: 0.6795 - val_loss: 1.4256 - val_accuracy: 0.6690\n",
      "Epoch 46/1000\n",
      "1457/1457 [==============================] - 186s 128ms/step - loss: 1.3231 - accuracy: 0.6853 - val_loss: 1.6084 - val_accuracy: 0.6378\n",
      "Epoch 47/1000\n",
      "1457/1457 [==============================] - 186s 128ms/step - loss: 1.3121 - accuracy: 0.6887 - val_loss: 1.4146 - val_accuracy: 0.6761\n",
      "Epoch 48/1000\n",
      "1457/1457 [==============================] - 186s 128ms/step - loss: 1.2899 - accuracy: 0.6934 - val_loss: 1.2955 - val_accuracy: 0.6992\n",
      "Epoch 49/1000\n",
      "1457/1457 [==============================] - 187s 128ms/step - loss: 1.2705 - accuracy: 0.6962 - val_loss: 1.3862 - val_accuracy: 0.6831\n",
      "Epoch 50/1000\n",
      "1457/1457 [==============================] - 187s 129ms/step - loss: 1.2575 - accuracy: 0.6995 - val_loss: 1.4080 - val_accuracy: 0.6793\n",
      "Epoch 51/1000\n",
      "1457/1457 [==============================] - 186s 127ms/step - loss: 1.2268 - accuracy: 0.7059 - val_loss: 1.4038 - val_accuracy: 0.6820\n",
      "Epoch 52/1000\n",
      "1457/1457 [==============================] - 187s 128ms/step - loss: 1.2269 - accuracy: 0.7066 - val_loss: 1.4610 - val_accuracy: 0.6733\n",
      "Epoch 53/1000\n",
      "1457/1457 [==============================] - 188s 129ms/step - loss: 1.2162 - accuracy: 0.7060 - val_loss: 1.3822 - val_accuracy: 0.6877\n",
      "Epoch 54/1000\n",
      "1457/1457 [==============================] - 187s 128ms/step - loss: 1.1788 - accuracy: 0.7149 - val_loss: 1.3787 - val_accuracy: 0.6845\n",
      "Epoch 55/1000\n",
      "1457/1457 [==============================] - 192s 132ms/step - loss: 1.1807 - accuracy: 0.7154 - val_loss: 1.2692 - val_accuracy: 0.7044\n",
      "Epoch 56/1000\n",
      "1457/1457 [==============================] - 193s 132ms/step - loss: 1.1620 - accuracy: 0.7205 - val_loss: 1.2583 - val_accuracy: 0.7051\n",
      "Epoch 57/1000\n",
      "1457/1457 [==============================] - 187s 128ms/step - loss: 1.1453 - accuracy: 0.7232 - val_loss: 1.2147 - val_accuracy: 0.7178\n",
      "Epoch 58/1000\n",
      "1457/1457 [==============================] - 192s 132ms/step - loss: 1.1356 - accuracy: 0.7230 - val_loss: 1.2325 - val_accuracy: 0.7155\n",
      "Epoch 59/1000\n",
      "1457/1457 [==============================] - 187s 128ms/step - loss: 1.1112 - accuracy: 0.7301 - val_loss: 1.1958 - val_accuracy: 0.7201\n",
      "Epoch 60/1000\n",
      "1457/1457 [==============================] - 187s 128ms/step - loss: 1.1019 - accuracy: 0.7342 - val_loss: 1.2408 - val_accuracy: 0.7104\n",
      "Epoch 61/1000\n",
      "1457/1457 [==============================] - 191s 131ms/step - loss: 1.0950 - accuracy: 0.7337 - val_loss: 1.1992 - val_accuracy: 0.7219\n",
      "Epoch 62/1000\n",
      "1457/1457 [==============================] - 187s 128ms/step - loss: 1.0777 - accuracy: 0.7378 - val_loss: 1.1859 - val_accuracy: 0.7235\n",
      "Epoch 63/1000\n",
      "1457/1457 [==============================] - 191s 131ms/step - loss: 1.0664 - accuracy: 0.7389 - val_loss: 1.1402 - val_accuracy: 0.7318\n",
      "Epoch 64/1000\n",
      "1457/1457 [==============================] - 186s 128ms/step - loss: 1.0492 - accuracy: 0.7425 - val_loss: 1.0698 - val_accuracy: 0.7415\n",
      "Epoch 65/1000\n",
      "1457/1457 [==============================] - 187s 128ms/step - loss: 1.0529 - accuracy: 0.7416 - val_loss: 1.1519 - val_accuracy: 0.7270\n",
      "Epoch 66/1000\n",
      "1457/1457 [==============================] - 187s 128ms/step - loss: 1.0378 - accuracy: 0.7441 - val_loss: 1.0822 - val_accuracy: 0.7395\n",
      "Epoch 67/1000\n",
      "1457/1457 [==============================] - 188s 129ms/step - loss: 1.0239 - accuracy: 0.7483 - val_loss: 1.2264 - val_accuracy: 0.7200\n",
      "Epoch 68/1000\n",
      "1457/1457 [==============================] - 187s 128ms/step - loss: 1.0275 - accuracy: 0.7477 - val_loss: 1.1277 - val_accuracy: 0.7319\n",
      "Epoch 69/1000\n",
      "1457/1457 [==============================] - 187s 128ms/step - loss: 1.0150 - accuracy: 0.7510 - val_loss: 1.1630 - val_accuracy: 0.7260\n",
      "Epoch 70/1000\n",
      "1457/1457 [==============================] - 192s 132ms/step - loss: 0.9907 - accuracy: 0.7560 - val_loss: 1.1185 - val_accuracy: 0.7386\n",
      "Epoch 71/1000\n",
      "1457/1457 [==============================] - 186s 128ms/step - loss: 0.9798 - accuracy: 0.7598 - val_loss: 1.1027 - val_accuracy: 0.7399\n",
      "Epoch 72/1000\n",
      "1457/1457 [==============================] - 187s 128ms/step - loss: 0.9815 - accuracy: 0.7584 - val_loss: 1.1561 - val_accuracy: 0.7345\n",
      "Epoch 73/1000\n",
      "1457/1457 [==============================] - 187s 128ms/step - loss: 0.9667 - accuracy: 0.7618 - val_loss: 1.0721 - val_accuracy: 0.7421\n",
      "Epoch 74/1000\n",
      "1457/1457 [==============================] - 186s 128ms/step - loss: 0.9698 - accuracy: 0.7616 - val_loss: 1.2453 - val_accuracy: 0.7126\n",
      "Epoch 75/1000\n",
      "1457/1457 [==============================] - 192s 132ms/step - loss: 0.9575 - accuracy: 0.7630 - val_loss: 1.0509 - val_accuracy: 0.7503\n",
      "Epoch 76/1000\n",
      "1457/1457 [==============================] - 187s 128ms/step - loss: 0.9493 - accuracy: 0.7648 - val_loss: 1.0322 - val_accuracy: 0.7488\n",
      "Epoch 77/1000\n",
      "1457/1457 [==============================] - 187s 128ms/step - loss: 0.9398 - accuracy: 0.7663 - val_loss: 1.0129 - val_accuracy: 0.7554\n",
      "Epoch 78/1000\n",
      "1457/1457 [==============================] - 188s 129ms/step - loss: 0.9259 - accuracy: 0.7691 - val_loss: 0.9890 - val_accuracy: 0.7632\n",
      "Epoch 79/1000\n",
      "1457/1457 [==============================] - 187s 128ms/step - loss: 0.9271 - accuracy: 0.7691 - val_loss: 1.0562 - val_accuracy: 0.7504\n",
      "Epoch 80/1000\n",
      "1457/1457 [==============================] - 187s 129ms/step - loss: 0.9150 - accuracy: 0.7718 - val_loss: 1.0372 - val_accuracy: 0.7530\n",
      "Epoch 81/1000\n",
      "1457/1457 [==============================] - 187s 128ms/step - loss: 0.9144 - accuracy: 0.7712 - val_loss: 0.9695 - val_accuracy: 0.7699\n",
      "Epoch 82/1000\n",
      "1457/1457 [==============================] - 187s 128ms/step - loss: 0.8958 - accuracy: 0.7768 - val_loss: 0.9529 - val_accuracy: 0.7674\n",
      "Epoch 83/1000\n",
      "1457/1457 [==============================] - 186s 128ms/step - loss: 0.8915 - accuracy: 0.7782 - val_loss: 1.0345 - val_accuracy: 0.7571\n",
      "Epoch 84/1000\n",
      "1457/1457 [==============================] - 187s 128ms/step - loss: 0.8913 - accuracy: 0.7755 - val_loss: 0.9865 - val_accuracy: 0.7613\n",
      "Epoch 85/1000\n",
      "1457/1457 [==============================] - 187s 128ms/step - loss: 0.8862 - accuracy: 0.7782 - val_loss: 0.9823 - val_accuracy: 0.7675\n",
      "Epoch 86/1000\n",
      "1457/1457 [==============================] - 187s 128ms/step - loss: 0.8709 - accuracy: 0.7810 - val_loss: 0.8865 - val_accuracy: 0.7853\n",
      "Epoch 87/1000\n",
      "1457/1457 [==============================] - 189s 129ms/step - loss: 0.8739 - accuracy: 0.7813 - val_loss: 1.0673 - val_accuracy: 0.7497\n",
      "Epoch 88/1000\n",
      "1457/1457 [==============================] - 186s 128ms/step - loss: 0.8657 - accuracy: 0.7826 - val_loss: 0.9383 - val_accuracy: 0.7704\n",
      "Epoch 89/1000\n",
      "1457/1457 [==============================] - 186s 128ms/step - loss: 0.8618 - accuracy: 0.7850 - val_loss: 0.9615 - val_accuracy: 0.7702\n",
      "Epoch 90/1000\n",
      "1457/1457 [==============================] - 191s 131ms/step - loss: 0.8465 - accuracy: 0.7870 - val_loss: 0.9810 - val_accuracy: 0.7642\n",
      "Epoch 91/1000\n",
      "1457/1457 [==============================] - 187s 128ms/step - loss: 0.8391 - accuracy: 0.7890 - val_loss: 1.0559 - val_accuracy: 0.7555\n",
      "Epoch 92/1000\n",
      "1457/1457 [==============================] - 187s 128ms/step - loss: 0.8416 - accuracy: 0.7872 - val_loss: 0.9253 - val_accuracy: 0.7785\n",
      "Epoch 93/1000\n",
      "1457/1457 [==============================] - 187s 128ms/step - loss: 0.8317 - accuracy: 0.7894 - val_loss: 0.8428 - val_accuracy: 0.7904\n",
      "Epoch 94/1000\n",
      "1457/1457 [==============================] - 193s 132ms/step - loss: 0.8264 - accuracy: 0.7908 - val_loss: 0.9179 - val_accuracy: 0.7785\n",
      "Epoch 95/1000\n",
      "1457/1457 [==============================] - 187s 129ms/step - loss: 0.8170 - accuracy: 0.7945 - val_loss: 0.8840 - val_accuracy: 0.7906\n",
      "Epoch 96/1000\n",
      "1457/1457 [==============================] - 192s 132ms/step - loss: 0.8209 - accuracy: 0.7937 - val_loss: 0.8813 - val_accuracy: 0.7849\n",
      "Epoch 97/1000\n",
      "1457/1457 [==============================] - 193s 132ms/step - loss: 0.8177 - accuracy: 0.7938 - val_loss: 0.9039 - val_accuracy: 0.7822\n",
      "Epoch 98/1000\n",
      "1457/1457 [==============================] - 191s 131ms/step - loss: 0.8098 - accuracy: 0.7954 - val_loss: 0.9921 - val_accuracy: 0.7656\n",
      "Epoch 99/1000\n",
      "1457/1457 [==============================] - 188s 129ms/step - loss: 0.8072 - accuracy: 0.7961 - val_loss: 1.0736 - val_accuracy: 0.7508\n",
      "Epoch 100/1000\n",
      "1457/1457 [==============================] - 187s 128ms/step - loss: 0.7962 - accuracy: 0.7964 - val_loss: 0.8895 - val_accuracy: 0.7901\n",
      "Epoch 101/1000\n",
      "1457/1457 [==============================] - 187s 128ms/step - loss: 0.7919 - accuracy: 0.8009 - val_loss: 0.9443 - val_accuracy: 0.7784\n",
      "Epoch 102/1000\n",
      "1457/1457 [==============================] - 192s 132ms/step - loss: 0.7930 - accuracy: 0.7993 - val_loss: 0.8547 - val_accuracy: 0.7934\n",
      "Epoch 103/1000\n",
      "1457/1457 [==============================] - 187s 128ms/step - loss: 0.7810 - accuracy: 0.8022 - val_loss: 0.9142 - val_accuracy: 0.7844\n",
      "Epoch 104/1000\n",
      "1457/1457 [==============================] - 187s 128ms/step - loss: 0.7840 - accuracy: 0.8006 - val_loss: 0.9077 - val_accuracy: 0.7828\n",
      "Epoch 105/1000\n",
      "1457/1457 [==============================] - 187s 128ms/step - loss: 0.7807 - accuracy: 0.8012 - val_loss: 0.8711 - val_accuracy: 0.7905\n",
      "Epoch 106/1000\n",
      "1457/1457 [==============================] - 188s 129ms/step - loss: 0.7742 - accuracy: 0.8025 - val_loss: 0.9935 - val_accuracy: 0.7686\n",
      "Epoch 107/1000\n",
      " 470/1457 [========>.....................] - ETA: 1:56 - loss: 0.7425 - accuracy: 0.8104"
     ]
    },
    {
     "ename": "KeyboardInterrupt",
     "evalue": "",
     "output_type": "error",
     "traceback": [
      "\u001b[0;31m---------------------------------------------------------------------------\u001b[0m",
      "\u001b[0;31mKeyboardInterrupt\u001b[0m                         Traceback (most recent call last)",
      "Input \u001b[0;32mIn [9]\u001b[0m, in \u001b[0;36m<cell line: 1>\u001b[0;34m()\u001b[0m\n\u001b[0;32m----> 1\u001b[0m \u001b[43mcnn\u001b[49m\u001b[38;5;241;43m.\u001b[39;49m\u001b[43mfit_generator\u001b[49m\u001b[43m(\u001b[49m\u001b[43mdata_generator\u001b[49m\u001b[38;5;241;43m.\u001b[39;49m\u001b[43mflow\u001b[49m\u001b[43m(\u001b[49m\u001b[43mx_ag\u001b[49m\u001b[43m,\u001b[49m\u001b[43m \u001b[49m\u001b[43my\u001b[49m\u001b[43m,\u001b[49m\u001b[43m \u001b[49m\u001b[43mbatch_size\u001b[49m\u001b[38;5;241;43m=\u001b[39;49m\u001b[38;5;241;43m32\u001b[39;49m\u001b[43m)\u001b[49m\u001b[43m,\u001b[49m\u001b[43m \u001b[49m\u001b[43msteps_per_epoch\u001b[49m\u001b[38;5;241;43m=\u001b[39;49m\u001b[38;5;28;43mlen\u001b[39;49m\u001b[43m(\u001b[49m\u001b[43mx_ag\u001b[49m\u001b[43m)\u001b[49m\u001b[43m \u001b[49m\u001b[38;5;241;43m/\u001b[39;49m\u001b[43m \u001b[49m\u001b[38;5;241;43m32\u001b[39;49m\u001b[43m,\u001b[49m\u001b[43m \u001b[49m\n\u001b[1;32m      2\u001b[0m \u001b[43m                  \u001b[49m\u001b[43mvalidation_data\u001b[49m\u001b[38;5;241;43m=\u001b[39;49m\u001b[43m(\u001b[49m\u001b[43mx_ag\u001b[49m\u001b[38;5;241;43m/\u001b[39;49m\u001b[38;5;241;43m225\u001b[39;49m\u001b[43m,\u001b[49m\u001b[43m \u001b[49m\u001b[43my\u001b[49m\u001b[43m)\u001b[49m\u001b[43m,\u001b[49m\u001b[43m \u001b[49m\u001b[43mepochs\u001b[49m\u001b[38;5;241;43m=\u001b[39;49m\u001b[38;5;241;43m1000\u001b[39;49m\u001b[43m)\u001b[49m\n",
      "File \u001b[0;32m~/.local/lib/python3.9/site-packages/keras/engine/training.py:2507\u001b[0m, in \u001b[0;36mModel.fit_generator\u001b[0;34m(self, generator, steps_per_epoch, epochs, verbose, callbacks, validation_data, validation_steps, validation_freq, class_weight, max_queue_size, workers, use_multiprocessing, shuffle, initial_epoch)\u001b[0m\n\u001b[1;32m   2495\u001b[0m \u001b[38;5;124;03m\"\"\"Fits the model on data yielded batch-by-batch by a Python generator.\u001b[39;00m\n\u001b[1;32m   2496\u001b[0m \n\u001b[1;32m   2497\u001b[0m \u001b[38;5;124;03mDEPRECATED:\u001b[39;00m\n\u001b[1;32m   2498\u001b[0m \u001b[38;5;124;03m  `Model.fit` now supports generators, so there is no longer any need to\u001b[39;00m\n\u001b[1;32m   2499\u001b[0m \u001b[38;5;124;03m  use this endpoint.\u001b[39;00m\n\u001b[1;32m   2500\u001b[0m \u001b[38;5;124;03m\"\"\"\u001b[39;00m\n\u001b[1;32m   2501\u001b[0m warnings\u001b[38;5;241m.\u001b[39mwarn(\n\u001b[1;32m   2502\u001b[0m     \u001b[38;5;124m\"\u001b[39m\u001b[38;5;124m`Model.fit_generator` is deprecated and \u001b[39m\u001b[38;5;124m\"\u001b[39m\n\u001b[1;32m   2503\u001b[0m     \u001b[38;5;124m\"\u001b[39m\u001b[38;5;124mwill be removed in a future version. \u001b[39m\u001b[38;5;124m\"\u001b[39m\n\u001b[1;32m   2504\u001b[0m     \u001b[38;5;124m\"\u001b[39m\u001b[38;5;124mPlease use `Model.fit`, which supports generators.\u001b[39m\u001b[38;5;124m\"\u001b[39m,\n\u001b[1;32m   2505\u001b[0m     stacklevel\u001b[38;5;241m=\u001b[39m\u001b[38;5;241m2\u001b[39m,\n\u001b[1;32m   2506\u001b[0m )\n\u001b[0;32m-> 2507\u001b[0m \u001b[38;5;28;01mreturn\u001b[39;00m \u001b[38;5;28;43mself\u001b[39;49m\u001b[38;5;241;43m.\u001b[39;49m\u001b[43mfit\u001b[49m\u001b[43m(\u001b[49m\n\u001b[1;32m   2508\u001b[0m \u001b[43m    \u001b[49m\u001b[43mgenerator\u001b[49m\u001b[43m,\u001b[49m\n\u001b[1;32m   2509\u001b[0m \u001b[43m    \u001b[49m\u001b[43msteps_per_epoch\u001b[49m\u001b[38;5;241;43m=\u001b[39;49m\u001b[43msteps_per_epoch\u001b[49m\u001b[43m,\u001b[49m\n\u001b[1;32m   2510\u001b[0m \u001b[43m    \u001b[49m\u001b[43mepochs\u001b[49m\u001b[38;5;241;43m=\u001b[39;49m\u001b[43mepochs\u001b[49m\u001b[43m,\u001b[49m\n\u001b[1;32m   2511\u001b[0m \u001b[43m    \u001b[49m\u001b[43mverbose\u001b[49m\u001b[38;5;241;43m=\u001b[39;49m\u001b[43mverbose\u001b[49m\u001b[43m,\u001b[49m\n\u001b[1;32m   2512\u001b[0m \u001b[43m    \u001b[49m\u001b[43mcallbacks\u001b[49m\u001b[38;5;241;43m=\u001b[39;49m\u001b[43mcallbacks\u001b[49m\u001b[43m,\u001b[49m\n\u001b[1;32m   2513\u001b[0m \u001b[43m    \u001b[49m\u001b[43mvalidation_data\u001b[49m\u001b[38;5;241;43m=\u001b[39;49m\u001b[43mvalidation_data\u001b[49m\u001b[43m,\u001b[49m\n\u001b[1;32m   2514\u001b[0m \u001b[43m    \u001b[49m\u001b[43mvalidation_steps\u001b[49m\u001b[38;5;241;43m=\u001b[39;49m\u001b[43mvalidation_steps\u001b[49m\u001b[43m,\u001b[49m\n\u001b[1;32m   2515\u001b[0m \u001b[43m    \u001b[49m\u001b[43mvalidation_freq\u001b[49m\u001b[38;5;241;43m=\u001b[39;49m\u001b[43mvalidation_freq\u001b[49m\u001b[43m,\u001b[49m\n\u001b[1;32m   2516\u001b[0m \u001b[43m    \u001b[49m\u001b[43mclass_weight\u001b[49m\u001b[38;5;241;43m=\u001b[39;49m\u001b[43mclass_weight\u001b[49m\u001b[43m,\u001b[49m\n\u001b[1;32m   2517\u001b[0m \u001b[43m    \u001b[49m\u001b[43mmax_queue_size\u001b[49m\u001b[38;5;241;43m=\u001b[39;49m\u001b[43mmax_queue_size\u001b[49m\u001b[43m,\u001b[49m\n\u001b[1;32m   2518\u001b[0m \u001b[43m    \u001b[49m\u001b[43mworkers\u001b[49m\u001b[38;5;241;43m=\u001b[39;49m\u001b[43mworkers\u001b[49m\u001b[43m,\u001b[49m\n\u001b[1;32m   2519\u001b[0m \u001b[43m    \u001b[49m\u001b[43muse_multiprocessing\u001b[49m\u001b[38;5;241;43m=\u001b[39;49m\u001b[43muse_multiprocessing\u001b[49m\u001b[43m,\u001b[49m\n\u001b[1;32m   2520\u001b[0m \u001b[43m    \u001b[49m\u001b[43mshuffle\u001b[49m\u001b[38;5;241;43m=\u001b[39;49m\u001b[43mshuffle\u001b[49m\u001b[43m,\u001b[49m\n\u001b[1;32m   2521\u001b[0m \u001b[43m    \u001b[49m\u001b[43minitial_epoch\u001b[49m\u001b[38;5;241;43m=\u001b[39;49m\u001b[43minitial_epoch\u001b[49m\u001b[43m,\u001b[49m\n\u001b[1;32m   2522\u001b[0m \u001b[43m\u001b[49m\u001b[43m)\u001b[49m\n",
      "File \u001b[0;32m~/.local/lib/python3.9/site-packages/keras/utils/traceback_utils.py:65\u001b[0m, in \u001b[0;36mfilter_traceback.<locals>.error_handler\u001b[0;34m(*args, **kwargs)\u001b[0m\n\u001b[1;32m     63\u001b[0m filtered_tb \u001b[38;5;241m=\u001b[39m \u001b[38;5;28;01mNone\u001b[39;00m\n\u001b[1;32m     64\u001b[0m \u001b[38;5;28;01mtry\u001b[39;00m:\n\u001b[0;32m---> 65\u001b[0m     \u001b[38;5;28;01mreturn\u001b[39;00m \u001b[43mfn\u001b[49m\u001b[43m(\u001b[49m\u001b[38;5;241;43m*\u001b[39;49m\u001b[43margs\u001b[49m\u001b[43m,\u001b[49m\u001b[43m \u001b[49m\u001b[38;5;241;43m*\u001b[39;49m\u001b[38;5;241;43m*\u001b[39;49m\u001b[43mkwargs\u001b[49m\u001b[43m)\u001b[49m\n\u001b[1;32m     66\u001b[0m \u001b[38;5;28;01mexcept\u001b[39;00m \u001b[38;5;167;01mException\u001b[39;00m \u001b[38;5;28;01mas\u001b[39;00m e:\n\u001b[1;32m     67\u001b[0m     filtered_tb \u001b[38;5;241m=\u001b[39m _process_traceback_frames(e\u001b[38;5;241m.\u001b[39m__traceback__)\n",
      "File \u001b[0;32m~/.local/lib/python3.9/site-packages/keras/engine/training.py:1564\u001b[0m, in \u001b[0;36mModel.fit\u001b[0;34m(self, x, y, batch_size, epochs, verbose, callbacks, validation_split, validation_data, shuffle, class_weight, sample_weight, initial_epoch, steps_per_epoch, validation_steps, validation_batch_size, validation_freq, max_queue_size, workers, use_multiprocessing)\u001b[0m\n\u001b[1;32m   1556\u001b[0m \u001b[38;5;28;01mwith\u001b[39;00m tf\u001b[38;5;241m.\u001b[39mprofiler\u001b[38;5;241m.\u001b[39mexperimental\u001b[38;5;241m.\u001b[39mTrace(\n\u001b[1;32m   1557\u001b[0m     \u001b[38;5;124m\"\u001b[39m\u001b[38;5;124mtrain\u001b[39m\u001b[38;5;124m\"\u001b[39m,\n\u001b[1;32m   1558\u001b[0m     epoch_num\u001b[38;5;241m=\u001b[39mepoch,\n\u001b[0;32m   (...)\u001b[0m\n\u001b[1;32m   1561\u001b[0m     _r\u001b[38;5;241m=\u001b[39m\u001b[38;5;241m1\u001b[39m,\n\u001b[1;32m   1562\u001b[0m ):\n\u001b[1;32m   1563\u001b[0m     callbacks\u001b[38;5;241m.\u001b[39mon_train_batch_begin(step)\n\u001b[0;32m-> 1564\u001b[0m     tmp_logs \u001b[38;5;241m=\u001b[39m \u001b[38;5;28;43mself\u001b[39;49m\u001b[38;5;241;43m.\u001b[39;49m\u001b[43mtrain_function\u001b[49m\u001b[43m(\u001b[49m\u001b[43miterator\u001b[49m\u001b[43m)\u001b[49m\n\u001b[1;32m   1565\u001b[0m     \u001b[38;5;28;01mif\u001b[39;00m data_handler\u001b[38;5;241m.\u001b[39mshould_sync:\n\u001b[1;32m   1566\u001b[0m         context\u001b[38;5;241m.\u001b[39masync_wait()\n",
      "File \u001b[0;32m~/.local/lib/python3.9/site-packages/tensorflow/python/util/traceback_utils.py:150\u001b[0m, in \u001b[0;36mfilter_traceback.<locals>.error_handler\u001b[0;34m(*args, **kwargs)\u001b[0m\n\u001b[1;32m    148\u001b[0m filtered_tb \u001b[38;5;241m=\u001b[39m \u001b[38;5;28;01mNone\u001b[39;00m\n\u001b[1;32m    149\u001b[0m \u001b[38;5;28;01mtry\u001b[39;00m:\n\u001b[0;32m--> 150\u001b[0m   \u001b[38;5;28;01mreturn\u001b[39;00m \u001b[43mfn\u001b[49m\u001b[43m(\u001b[49m\u001b[38;5;241;43m*\u001b[39;49m\u001b[43margs\u001b[49m\u001b[43m,\u001b[49m\u001b[43m \u001b[49m\u001b[38;5;241;43m*\u001b[39;49m\u001b[38;5;241;43m*\u001b[39;49m\u001b[43mkwargs\u001b[49m\u001b[43m)\u001b[49m\n\u001b[1;32m    151\u001b[0m \u001b[38;5;28;01mexcept\u001b[39;00m \u001b[38;5;167;01mException\u001b[39;00m \u001b[38;5;28;01mas\u001b[39;00m e:\n\u001b[1;32m    152\u001b[0m   filtered_tb \u001b[38;5;241m=\u001b[39m _process_traceback_frames(e\u001b[38;5;241m.\u001b[39m__traceback__)\n",
      "File \u001b[0;32m~/.local/lib/python3.9/site-packages/tensorflow/python/eager/def_function.py:915\u001b[0m, in \u001b[0;36mFunction.__call__\u001b[0;34m(self, *args, **kwds)\u001b[0m\n\u001b[1;32m    912\u001b[0m compiler \u001b[38;5;241m=\u001b[39m \u001b[38;5;124m\"\u001b[39m\u001b[38;5;124mxla\u001b[39m\u001b[38;5;124m\"\u001b[39m \u001b[38;5;28;01mif\u001b[39;00m \u001b[38;5;28mself\u001b[39m\u001b[38;5;241m.\u001b[39m_jit_compile \u001b[38;5;28;01melse\u001b[39;00m \u001b[38;5;124m\"\u001b[39m\u001b[38;5;124mnonXla\u001b[39m\u001b[38;5;124m\"\u001b[39m\n\u001b[1;32m    914\u001b[0m \u001b[38;5;28;01mwith\u001b[39;00m OptionalXlaContext(\u001b[38;5;28mself\u001b[39m\u001b[38;5;241m.\u001b[39m_jit_compile):\n\u001b[0;32m--> 915\u001b[0m   result \u001b[38;5;241m=\u001b[39m \u001b[38;5;28;43mself\u001b[39;49m\u001b[38;5;241;43m.\u001b[39;49m\u001b[43m_call\u001b[49m\u001b[43m(\u001b[49m\u001b[38;5;241;43m*\u001b[39;49m\u001b[43margs\u001b[49m\u001b[43m,\u001b[49m\u001b[43m \u001b[49m\u001b[38;5;241;43m*\u001b[39;49m\u001b[38;5;241;43m*\u001b[39;49m\u001b[43mkwds\u001b[49m\u001b[43m)\u001b[49m\n\u001b[1;32m    917\u001b[0m new_tracing_count \u001b[38;5;241m=\u001b[39m \u001b[38;5;28mself\u001b[39m\u001b[38;5;241m.\u001b[39mexperimental_get_tracing_count()\n\u001b[1;32m    918\u001b[0m without_tracing \u001b[38;5;241m=\u001b[39m (tracing_count \u001b[38;5;241m==\u001b[39m new_tracing_count)\n",
      "File \u001b[0;32m~/.local/lib/python3.9/site-packages/tensorflow/python/eager/def_function.py:947\u001b[0m, in \u001b[0;36mFunction._call\u001b[0;34m(self, *args, **kwds)\u001b[0m\n\u001b[1;32m    944\u001b[0m   \u001b[38;5;28mself\u001b[39m\u001b[38;5;241m.\u001b[39m_lock\u001b[38;5;241m.\u001b[39mrelease()\n\u001b[1;32m    945\u001b[0m   \u001b[38;5;66;03m# In this case we have created variables on the first call, so we run the\u001b[39;00m\n\u001b[1;32m    946\u001b[0m   \u001b[38;5;66;03m# defunned version which is guaranteed to never create variables.\u001b[39;00m\n\u001b[0;32m--> 947\u001b[0m   \u001b[38;5;28;01mreturn\u001b[39;00m \u001b[38;5;28;43mself\u001b[39;49m\u001b[38;5;241;43m.\u001b[39;49m\u001b[43m_stateless_fn\u001b[49m\u001b[43m(\u001b[49m\u001b[38;5;241;43m*\u001b[39;49m\u001b[43margs\u001b[49m\u001b[43m,\u001b[49m\u001b[43m \u001b[49m\u001b[38;5;241;43m*\u001b[39;49m\u001b[38;5;241;43m*\u001b[39;49m\u001b[43mkwds\u001b[49m\u001b[43m)\u001b[49m  \u001b[38;5;66;03m# pylint: disable=not-callable\u001b[39;00m\n\u001b[1;32m    948\u001b[0m \u001b[38;5;28;01melif\u001b[39;00m \u001b[38;5;28mself\u001b[39m\u001b[38;5;241m.\u001b[39m_stateful_fn \u001b[38;5;129;01mis\u001b[39;00m \u001b[38;5;129;01mnot\u001b[39;00m \u001b[38;5;28;01mNone\u001b[39;00m:\n\u001b[1;32m    949\u001b[0m   \u001b[38;5;66;03m# Release the lock early so that multiple threads can perform the call\u001b[39;00m\n\u001b[1;32m    950\u001b[0m   \u001b[38;5;66;03m# in parallel.\u001b[39;00m\n\u001b[1;32m    951\u001b[0m   \u001b[38;5;28mself\u001b[39m\u001b[38;5;241m.\u001b[39m_lock\u001b[38;5;241m.\u001b[39mrelease()\n",
      "File \u001b[0;32m~/.local/lib/python3.9/site-packages/tensorflow/python/eager/function.py:2496\u001b[0m, in \u001b[0;36mFunction.__call__\u001b[0;34m(self, *args, **kwargs)\u001b[0m\n\u001b[1;32m   2493\u001b[0m \u001b[38;5;28;01mwith\u001b[39;00m \u001b[38;5;28mself\u001b[39m\u001b[38;5;241m.\u001b[39m_lock:\n\u001b[1;32m   2494\u001b[0m   (graph_function,\n\u001b[1;32m   2495\u001b[0m    filtered_flat_args) \u001b[38;5;241m=\u001b[39m \u001b[38;5;28mself\u001b[39m\u001b[38;5;241m.\u001b[39m_maybe_define_function(args, kwargs)\n\u001b[0;32m-> 2496\u001b[0m \u001b[38;5;28;01mreturn\u001b[39;00m \u001b[43mgraph_function\u001b[49m\u001b[38;5;241;43m.\u001b[39;49m\u001b[43m_call_flat\u001b[49m\u001b[43m(\u001b[49m\n\u001b[1;32m   2497\u001b[0m \u001b[43m    \u001b[49m\u001b[43mfiltered_flat_args\u001b[49m\u001b[43m,\u001b[49m\u001b[43m \u001b[49m\u001b[43mcaptured_inputs\u001b[49m\u001b[38;5;241;43m=\u001b[39;49m\u001b[43mgraph_function\u001b[49m\u001b[38;5;241;43m.\u001b[39;49m\u001b[43mcaptured_inputs\u001b[49m\u001b[43m)\u001b[49m\n",
      "File \u001b[0;32m~/.local/lib/python3.9/site-packages/tensorflow/python/eager/function.py:1862\u001b[0m, in \u001b[0;36mConcreteFunction._call_flat\u001b[0;34m(self, args, captured_inputs, cancellation_manager)\u001b[0m\n\u001b[1;32m   1858\u001b[0m possible_gradient_type \u001b[38;5;241m=\u001b[39m gradients_util\u001b[38;5;241m.\u001b[39mPossibleTapeGradientTypes(args)\n\u001b[1;32m   1859\u001b[0m \u001b[38;5;28;01mif\u001b[39;00m (possible_gradient_type \u001b[38;5;241m==\u001b[39m gradients_util\u001b[38;5;241m.\u001b[39mPOSSIBLE_GRADIENT_TYPES_NONE\n\u001b[1;32m   1860\u001b[0m     \u001b[38;5;129;01mand\u001b[39;00m executing_eagerly):\n\u001b[1;32m   1861\u001b[0m   \u001b[38;5;66;03m# No tape is watching; skip to running the function.\u001b[39;00m\n\u001b[0;32m-> 1862\u001b[0m   \u001b[38;5;28;01mreturn\u001b[39;00m \u001b[38;5;28mself\u001b[39m\u001b[38;5;241m.\u001b[39m_build_call_outputs(\u001b[38;5;28;43mself\u001b[39;49m\u001b[38;5;241;43m.\u001b[39;49m\u001b[43m_inference_function\u001b[49m\u001b[38;5;241;43m.\u001b[39;49m\u001b[43mcall\u001b[49m\u001b[43m(\u001b[49m\n\u001b[1;32m   1863\u001b[0m \u001b[43m      \u001b[49m\u001b[43mctx\u001b[49m\u001b[43m,\u001b[49m\u001b[43m \u001b[49m\u001b[43margs\u001b[49m\u001b[43m,\u001b[49m\u001b[43m \u001b[49m\u001b[43mcancellation_manager\u001b[49m\u001b[38;5;241;43m=\u001b[39;49m\u001b[43mcancellation_manager\u001b[49m\u001b[43m)\u001b[49m)\n\u001b[1;32m   1864\u001b[0m forward_backward \u001b[38;5;241m=\u001b[39m \u001b[38;5;28mself\u001b[39m\u001b[38;5;241m.\u001b[39m_select_forward_and_backward_functions(\n\u001b[1;32m   1865\u001b[0m     args,\n\u001b[1;32m   1866\u001b[0m     possible_gradient_type,\n\u001b[1;32m   1867\u001b[0m     executing_eagerly)\n\u001b[1;32m   1868\u001b[0m forward_function, args_with_tangents \u001b[38;5;241m=\u001b[39m forward_backward\u001b[38;5;241m.\u001b[39mforward()\n",
      "File \u001b[0;32m~/.local/lib/python3.9/site-packages/tensorflow/python/eager/function.py:499\u001b[0m, in \u001b[0;36m_EagerDefinedFunction.call\u001b[0;34m(self, ctx, args, cancellation_manager)\u001b[0m\n\u001b[1;32m    497\u001b[0m \u001b[38;5;28;01mwith\u001b[39;00m _InterpolateFunctionError(\u001b[38;5;28mself\u001b[39m):\n\u001b[1;32m    498\u001b[0m   \u001b[38;5;28;01mif\u001b[39;00m cancellation_manager \u001b[38;5;129;01mis\u001b[39;00m \u001b[38;5;28;01mNone\u001b[39;00m:\n\u001b[0;32m--> 499\u001b[0m     outputs \u001b[38;5;241m=\u001b[39m \u001b[43mexecute\u001b[49m\u001b[38;5;241;43m.\u001b[39;49m\u001b[43mexecute\u001b[49m\u001b[43m(\u001b[49m\n\u001b[1;32m    500\u001b[0m \u001b[43m        \u001b[49m\u001b[38;5;28;43mstr\u001b[39;49m\u001b[43m(\u001b[49m\u001b[38;5;28;43mself\u001b[39;49m\u001b[38;5;241;43m.\u001b[39;49m\u001b[43msignature\u001b[49m\u001b[38;5;241;43m.\u001b[39;49m\u001b[43mname\u001b[49m\u001b[43m)\u001b[49m\u001b[43m,\u001b[49m\n\u001b[1;32m    501\u001b[0m \u001b[43m        \u001b[49m\u001b[43mnum_outputs\u001b[49m\u001b[38;5;241;43m=\u001b[39;49m\u001b[38;5;28;43mself\u001b[39;49m\u001b[38;5;241;43m.\u001b[39;49m\u001b[43m_num_outputs\u001b[49m\u001b[43m,\u001b[49m\n\u001b[1;32m    502\u001b[0m \u001b[43m        \u001b[49m\u001b[43minputs\u001b[49m\u001b[38;5;241;43m=\u001b[39;49m\u001b[43margs\u001b[49m\u001b[43m,\u001b[49m\n\u001b[1;32m    503\u001b[0m \u001b[43m        \u001b[49m\u001b[43mattrs\u001b[49m\u001b[38;5;241;43m=\u001b[39;49m\u001b[43mattrs\u001b[49m\u001b[43m,\u001b[49m\n\u001b[1;32m    504\u001b[0m \u001b[43m        \u001b[49m\u001b[43mctx\u001b[49m\u001b[38;5;241;43m=\u001b[39;49m\u001b[43mctx\u001b[49m\u001b[43m)\u001b[49m\n\u001b[1;32m    505\u001b[0m   \u001b[38;5;28;01melse\u001b[39;00m:\n\u001b[1;32m    506\u001b[0m     outputs \u001b[38;5;241m=\u001b[39m execute\u001b[38;5;241m.\u001b[39mexecute_with_cancellation(\n\u001b[1;32m    507\u001b[0m         \u001b[38;5;28mstr\u001b[39m(\u001b[38;5;28mself\u001b[39m\u001b[38;5;241m.\u001b[39msignature\u001b[38;5;241m.\u001b[39mname),\n\u001b[1;32m    508\u001b[0m         num_outputs\u001b[38;5;241m=\u001b[39m\u001b[38;5;28mself\u001b[39m\u001b[38;5;241m.\u001b[39m_num_outputs,\n\u001b[0;32m   (...)\u001b[0m\n\u001b[1;32m    511\u001b[0m         ctx\u001b[38;5;241m=\u001b[39mctx,\n\u001b[1;32m    512\u001b[0m         cancellation_manager\u001b[38;5;241m=\u001b[39mcancellation_manager)\n",
      "File \u001b[0;32m~/.local/lib/python3.9/site-packages/tensorflow/python/eager/execute.py:54\u001b[0m, in \u001b[0;36mquick_execute\u001b[0;34m(op_name, num_outputs, inputs, attrs, ctx, name)\u001b[0m\n\u001b[1;32m     52\u001b[0m \u001b[38;5;28;01mtry\u001b[39;00m:\n\u001b[1;32m     53\u001b[0m   ctx\u001b[38;5;241m.\u001b[39mensure_initialized()\n\u001b[0;32m---> 54\u001b[0m   tensors \u001b[38;5;241m=\u001b[39m \u001b[43mpywrap_tfe\u001b[49m\u001b[38;5;241;43m.\u001b[39;49m\u001b[43mTFE_Py_Execute\u001b[49m\u001b[43m(\u001b[49m\u001b[43mctx\u001b[49m\u001b[38;5;241;43m.\u001b[39;49m\u001b[43m_handle\u001b[49m\u001b[43m,\u001b[49m\u001b[43m \u001b[49m\u001b[43mdevice_name\u001b[49m\u001b[43m,\u001b[49m\u001b[43m \u001b[49m\u001b[43mop_name\u001b[49m\u001b[43m,\u001b[49m\n\u001b[1;32m     55\u001b[0m \u001b[43m                                      \u001b[49m\u001b[43minputs\u001b[49m\u001b[43m,\u001b[49m\u001b[43m \u001b[49m\u001b[43mattrs\u001b[49m\u001b[43m,\u001b[49m\u001b[43m \u001b[49m\u001b[43mnum_outputs\u001b[49m\u001b[43m)\u001b[49m\n\u001b[1;32m     56\u001b[0m \u001b[38;5;28;01mexcept\u001b[39;00m core\u001b[38;5;241m.\u001b[39m_NotOkStatusException \u001b[38;5;28;01mas\u001b[39;00m e:\n\u001b[1;32m     57\u001b[0m   \u001b[38;5;28;01mif\u001b[39;00m name \u001b[38;5;129;01mis\u001b[39;00m \u001b[38;5;129;01mnot\u001b[39;00m \u001b[38;5;28;01mNone\u001b[39;00m:\n",
      "\u001b[0;31mKeyboardInterrupt\u001b[0m: "
     ]
    }
   ],
   "source": [
    "cnn.fit_generator(data_generator.flow(x, y, batch_size=32), steps_per_epoch=len(x) / 32, \n",
    "                  validation_data=(x, y), epochs=1000)"
   ]
  },
  {
   "cell_type": "code",
   "execution_count": 30,
   "metadata": {
    "tags": []
   },
   "outputs": [
    {
     "name": "stderr",
     "output_type": "stream",
     "text": [
      "2022-11-21 18:58:21.714475: W tensorflow/core/framework/cpu_allocator_impl.cc:82] Allocation of 4197600000 exceeds 10% of free system memory.\n",
      "2022-11-21 18:58:38.636569: W tensorflow/core/framework/cpu_allocator_impl.cc:82] Allocation of 4197600000 exceeds 10% of free system memory.\n"
     ]
    },
    {
     "name": "stdout",
     "output_type": "stream",
     "text": [
      "Test loss: 0.8986639976501465\n",
      "Test accuracy: 0.7835119962692261\n"
     ]
    }
   ],
   "source": [
    "score = cnn.evaluate(x, y, verbose=0)\n",
    "print(\"Test loss:\", score[0])\n",
    "print(\"Test accuracy:\", score[1])"
   ]
  },
  {
   "cell_type": "code",
   "execution_count": 10,
   "metadata": {},
   "outputs": [
    {
     "name": "stderr",
     "output_type": "stream",
     "text": [
      "WARNING:absl:Found untraced functions such as _jit_compiled_convolution_op, _jit_compiled_convolution_op while saving (showing 2 of 2). These functions will not be directly callable after loading.\n"
     ]
    },
    {
     "name": "stdout",
     "output_type": "stream",
     "text": [
      "INFO:tensorflow:Assets written to: Imprint_ep106_simplecnn_argu_rotation_brightness/assets\n"
     ]
    },
    {
     "name": "stderr",
     "output_type": "stream",
     "text": [
      "INFO:tensorflow:Assets written to: Imprint_ep106_simplecnn_argu_rotation_brightness/assets\n"
     ]
    }
   ],
   "source": [
    "cnn.save('Imprint_ep106_simplecnn_argu_rotation_brightness')"
   ]
  },
  {
   "cell_type": "markdown",
   "metadata": {},
   "source": [
    "---"
   ]
  },
  {
   "cell_type": "markdown",
   "metadata": {},
   "source": [
    "## 모델 추론"
   ]
  },
  {
   "cell_type": "code",
   "execution_count": 4,
   "metadata": {},
   "outputs": [
    {
     "name": "stderr",
     "output_type": "stream",
     "text": [
      "2022-11-21 18:49:00.502245: I tensorflow/core/platform/cpu_feature_guard.cc:193] This TensorFlow binary is optimized with oneAPI Deep Neural Network Library (oneDNN) to use the following CPU instructions in performance-critical operations:  AVX2 FMA\n",
      "To enable them in other operations, rebuild TensorFlow with the appropriate compiler flags.\n",
      "2022-11-21 18:49:05.930521: I tensorflow/core/common_runtime/gpu/gpu_device.cc:1616] Created device /job:localhost/replica:0/task:0/device:GPU:0 with 10405 MB memory:  -> device: 0, name: NVIDIA GeForce GTX 1080 Ti, pci bus id: 0000:02:00.0, compute capability: 6.1\n",
      "2022-11-21 18:49:05.937920: I tensorflow/core/common_runtime/gpu/gpu_device.cc:1616] Created device /job:localhost/replica:0/task:0/device:GPU:1 with 10405 MB memory:  -> device: 1, name: NVIDIA GeForce GTX 1080 Ti, pci bus id: 0000:04:00.0, compute capability: 6.1\n",
      "2022-11-21 18:49:05.945715: I tensorflow/core/common_runtime/gpu/gpu_device.cc:1616] Created device /job:localhost/replica:0/task:0/device:GPU:2 with 10405 MB memory:  -> device: 2, name: NVIDIA GeForce GTX 1080 Ti, pci bus id: 0000:83:00.0, compute capability: 6.1\n",
      "2022-11-21 18:49:05.951220: I tensorflow/core/common_runtime/gpu/gpu_device.cc:1616] Created device /job:localhost/replica:0/task:0/device:GPU:3 with 10405 MB memory:  -> device: 3, name: NVIDIA GeForce GTX 1080 Ti, pci bus id: 0000:84:00.0, compute capability: 6.1\n"
     ]
    }
   ],
   "source": [
    "model = tf.keras.models.load_model('Imprint_ep106_simplecnn_argu_rotation_brightness')"
   ]
  },
  {
   "cell_type": "code",
   "execution_count": 16,
   "metadata": {},
   "outputs": [
    {
     "name": "stdout",
     "output_type": "stream",
     "text": [
      "1458/1458 [==============================] - 10s 7ms/step\n"
     ]
    }
   ],
   "source": [
    "y_pred = model.predict(x)"
   ]
  },
  {
   "cell_type": "code",
   "execution_count": 18,
   "metadata": {},
   "outputs": [
    {
     "data": {
      "text/plain": [
       "(46640, 14549)"
      ]
     },
     "execution_count": 18,
     "metadata": {},
     "output_type": "execute_result"
    }
   ],
   "source": [
    "y_pred.shape"
   ]
  },
  {
   "cell_type": "code",
   "execution_count": 29,
   "metadata": {},
   "outputs": [
    {
     "data": {
      "text/plain": [
       "array([[ 0],\n",
       "       [ 1],\n",
       "       [ 2],\n",
       "       [ 3],\n",
       "       [ 4],\n",
       "       [ 5],\n",
       "       [ 6],\n",
       "       [ 7],\n",
       "       [ 8],\n",
       "       [ 9],\n",
       "       [10],\n",
       "       [11],\n",
       "       [12],\n",
       "       [13],\n",
       "       [ 1],\n",
       "       [14],\n",
       "       [15],\n",
       "       [16],\n",
       "       [17],\n",
       "       [18]])"
      ]
     },
     "execution_count": 29,
     "metadata": {},
     "output_type": "execute_result"
    }
   ],
   "source": [
    "np.argmax(y[:20], axis=1).reshape(-1,1)"
   ]
  },
  {
   "cell_type": "code",
   "execution_count": 30,
   "metadata": {},
   "outputs": [
    {
     "data": {
      "text/plain": [
       "array([[   0],\n",
       "       [3495],\n",
       "       [6970],\n",
       "       [3404],\n",
       "       [   4],\n",
       "       [   5],\n",
       "       [   6],\n",
       "       [   7],\n",
       "       [  17],\n",
       "       [ 315],\n",
       "       [  10],\n",
       "       [3587],\n",
       "       [  12],\n",
       "       [   4],\n",
       "       [   1],\n",
       "       [ 279],\n",
       "       [  15],\n",
       "       [  16],\n",
       "       [  17],\n",
       "       [  18]])"
      ]
     },
     "execution_count": 30,
     "metadata": {},
     "output_type": "execute_result"
    }
   ],
   "source": [
    "np.argmax(y_pred[:20], axis=1).reshape(-1,1)"
   ]
  },
  {
   "cell_type": "code",
   "execution_count": 36,
   "metadata": {},
   "outputs": [
    {
     "data": {
      "text/plain": [
       "<matplotlib.image.AxesImage at 0x2b6f7d7b0850>"
      ]
     },
     "execution_count": 36,
     "metadata": {},
     "output_type": "execute_result"
    },
    {
     "data": {
      "image/png": "[encoded data removed]",
      "text/plain": [
       "<Figure size 432x288 with 1 Axes>"
      ]
     },
     "metadata": {
      "needs_background": "light"
     },
     "output_type": "display_data"
    }
   ],
   "source": [
    "img1 = cv.imread('../../Data/separate/front/front_00001.png', cv.IMREAD_GRAYSCALE)\n",
    "img1 = cv.equalizeHist(img1)\n",
    "img1 = cv.fastNlMeansDenoising(img1, None, 10, 7, 21)\n",
    "plt.imshow(img1)"
   ]
  },
  {
   "cell_type": "code",
   "execution_count": 37,
   "metadata": {},
   "outputs": [
    {
     "data": {
      "text/plain": [
       "<matplotlib.image.AxesImage at 0x2b6f7d9b1940>"
      ]
     },
     "execution_count": 37,
     "metadata": {},
     "output_type": "execute_result"
    },
    {
     "data": {
      "image/png": "[encoded data removed]",
      "text/plain": [
       "<Figure size 432x288 with 1 Axes>"
      ]
     },
     "metadata": {
      "needs_background": "light"
     },
     "output_type": "display_data"
    }
   ],
   "source": [
    "img2 = cv.imread('../../Data/separate/front/front_00002.png', cv.IMREAD_GRAYSCALE)\n",
    "img2 = cv.equalizeHist(img2)\n",
    "img2 = cv.fastNlMeansDenoising(img2, None, 10, 7, 21)\n",
    "plt.imshow(img2)"
   ]
  },
  {
   "cell_type": "code",
   "execution_count": 38,
   "metadata": {},
   "outputs": [
    {
     "data": {
      "text/plain": [
       "(2, 150, 150)"
      ]
     },
     "execution_count": 38,
     "metadata": {},
     "output_type": "execute_result"
    }
   ],
   "source": [
    "inputs = np.stack((img1, img2), axis=0)\n",
    "inputs.shape"
   ]
  },
  {
   "cell_type": "code",
   "execution_count": 53,
   "metadata": {},
   "outputs": [],
   "source": [
    "x = x/255.0"
   ]
  },
  {
   "cell_type": "code",
   "execution_count": null,
   "metadata": {},
   "outputs": [],
   "source": [
    "\n",
    "inputs = inputs/255.0"
   ]
  },
  {
   "cell_type": "code",
   "execution_count": 47,
   "metadata": {},
   "outputs": [
    {
     "data": {
      "text/plain": [
       "(10, 150, 150)"
      ]
     },
     "execution_count": 47,
     "metadata": {},
     "output_type": "execute_result"
    }
   ],
   "source": [
    "x[:10,:].shape"
   ]
  },
  {
   "cell_type": "code",
   "execution_count": 41,
   "metadata": {},
   "outputs": [
    {
     "name": "stdout",
     "output_type": "stream",
     "text": [
      "1/1 [==============================] - 0s 70ms/step\n"
     ]
    }
   ],
   "source": [
    "y_pred = model.predict(inputs)"
   ]
  },
  {
   "cell_type": "code",
   "execution_count": 54,
   "metadata": {
    "tags": []
   },
   "outputs": [
    {
     "name": "stdout",
     "output_type": "stream",
     "text": [
      "1/1 [==============================] - 0s 74ms/step\n"
     ]
    }
   ],
   "source": [
    "y_p = model.predict(x[:10,:])"
   ]
  },
  {
   "cell_type": "code",
   "execution_count": 43,
   "metadata": {},
   "outputs": [
    {
     "data": {
      "text/plain": [
       "array([[   0],\n",
       "       [3495]])"
      ]
     },
     "execution_count": 43,
     "metadata": {},
     "output_type": "execute_result"
    }
   ],
   "source": [
    "np.argmax(y_pred, axis=1).reshape(-1,1)"
   ]
  },
  {
   "cell_type": "code",
   "execution_count": 55,
   "metadata": {},
   "outputs": [
    {
     "data": {
      "text/plain": [
       "array([[   0],\n",
       "       [3495],\n",
       "       [6970],\n",
       "       [3404],\n",
       "       [   4],\n",
       "       [   5],\n",
       "       [   6],\n",
       "       [   7],\n",
       "       [  17],\n",
       "       [ 315]])"
      ]
     },
     "execution_count": 55,
     "metadata": {},
     "output_type": "execute_result"
    }
   ],
   "source": [
    "np.argmax(y_p, axis=1).reshape(-1,1)"
   ]
  },
  {
   "cell_type": "code",
   "execution_count": 28,
   "metadata": {},
   "outputs": [
    {
     "data": {
      "text/plain": [
       "array([[0],\n",
       "       [1],\n",
       "       [2],\n",
       "       [3],\n",
       "       [4],\n",
       "       [5],\n",
       "       [6],\n",
       "       [7],\n",
       "       [8],\n",
       "       [9]])"
      ]
     },
     "execution_count": 28,
     "metadata": {},
     "output_type": "execute_result"
    }
   ],
   "source": [
    "np.argmax(y, axis=1).reshape(-1,1)[:10]"
   ]
  },
  {
   "cell_type": "code",
   "execution_count": null,
   "metadata": {},
   "outputs": [],
   "source": [
    "def predict_pill_by_print(y_pred):\n",
    "    "
   ]
  },
  {
   "cell_type": "code",
   "execution_count": 7,
   "metadata": {},
   "outputs": [],
   "source": [
    "import pandas as pd\n",
    "import numpy as np"
   ]
  },
  {
   "cell_type": "code",
   "execution_count": 5,
   "metadata": {},
   "outputs": [
    {
     "name": "stderr",
     "output_type": "stream",
     "text": [
      "/tmp/ipykernel_153511/3011114623.py:1: DtypeWarning: Columns (14,15) have mixed types. Specify dtype option on import or set low_memory=False.\n",
      "  df = pd.read_csv(\"asdl.csv\", encoding='utf-8')[['ITEM_SEQ', 'ITEM_NAME']]\n"
     ]
    },
    {
     "data": {
      "text/html": [
       "<div>\n",
       "<style scoped>\n",
       "    .dataframe tbody tr th:only-of-type {\n",
       "        vertical-align: middle;\n",
       "    }\n",
       "\n",
       "    .dataframe tbody tr th {\n",
       "        vertical-align: top;\n",
       "    }\n",
       "\n",
       "    .dataframe thead th {\n",
       "        text-align: right;\n",
       "    }\n",
       "</style>\n",
       "<table border=\"1\" class=\"dataframe\">\n",
       "  <thead>\n",
       "    <tr style=\"text-align: right;\">\n",
       "      <th></th>\n",
       "      <th>ITEM_SEQ</th>\n",
       "      <th>ITEM_NAME</th>\n",
       "    </tr>\n",
       "  </thead>\n",
       "  <tbody>\n",
       "    <tr>\n",
       "      <th>0</th>\n",
       "      <td>200808876</td>\n",
       "      <td>가스디알정50밀리그램(디메크로틴산마그네슘)</td>\n",
       "    </tr>\n",
       "    <tr>\n",
       "      <th>1</th>\n",
       "      <td>200808877</td>\n",
       "      <td>페라트라정2.5밀리그램(레트로졸)</td>\n",
       "    </tr>\n",
       "    <tr>\n",
       "      <th>2</th>\n",
       "      <td>200809076</td>\n",
       "      <td>가스프렌정(모사프리드시트르산염이수화물)</td>\n",
       "    </tr>\n",
       "    <tr>\n",
       "      <th>3</th>\n",
       "      <td>200809276</td>\n",
       "      <td>디텐션정80밀리그램(발사르탄)</td>\n",
       "    </tr>\n",
       "    <tr>\n",
       "      <th>4</th>\n",
       "      <td>200809361</td>\n",
       "      <td>바르탄정(발사르탄)</td>\n",
       "    </tr>\n",
       "    <tr>\n",
       "      <th>...</th>\n",
       "      <td>...</td>\n",
       "      <td>...</td>\n",
       "    </tr>\n",
       "    <tr>\n",
       "      <th>23315</th>\n",
       "      <td>202104524</td>\n",
       "      <td>에소리움플러스정20/800밀리그램</td>\n",
       "    </tr>\n",
       "    <tr>\n",
       "      <th>23316</th>\n",
       "      <td>202104996</td>\n",
       "      <td>글루파엑스알서방정850밀리그램(메트포르민염산염)</td>\n",
       "    </tr>\n",
       "    <tr>\n",
       "      <th>23317</th>\n",
       "      <td>201601206</td>\n",
       "      <td>크레아진플러스정10/20mg</td>\n",
       "    </tr>\n",
       "    <tr>\n",
       "      <th>23318</th>\n",
       "      <td>202102255</td>\n",
       "      <td>빌다글립엠정50밀리그램(빌다글립틴)</td>\n",
       "    </tr>\n",
       "    <tr>\n",
       "      <th>23319</th>\n",
       "      <td>202102262</td>\n",
       "      <td>덴티텐캡슐(청위산)</td>\n",
       "    </tr>\n",
       "  </tbody>\n",
       "</table>\n",
       "<p>23320 rows × 2 columns</p>\n",
       "</div>"
      ],
      "text/plain": [
       "        ITEM_SEQ                   ITEM_NAME\n",
       "0      200808876     가스디알정50밀리그램(디메크로틴산마그네슘)\n",
       "1      200808877          페라트라정2.5밀리그램(레트로졸)\n",
       "2      200809076       가스프렌정(모사프리드시트르산염이수화물)\n",
       "3      200809276            디텐션정80밀리그램(발사르탄)\n",
       "4      200809361                  바르탄정(발사르탄)\n",
       "...          ...                         ...\n",
       "23315  202104524          에소리움플러스정20/800밀리그램\n",
       "23316  202104996  글루파엑스알서방정850밀리그램(메트포르민염산염)\n",
       "23317  201601206             크레아진플러스정10/20mg\n",
       "23318  202102255         빌다글립엠정50밀리그램(빌다글립틴)\n",
       "23319  202102262                  덴티텐캡슐(청위산)\n",
       "\n",
       "[23320 rows x 2 columns]"
      ]
     },
     "execution_count": 5,
     "metadata": {},
     "output_type": "execute_result"
    }
   ],
   "source": [
    "df = pd.read_csv(\"asdl.csv\", encoding='utf-8')[['ITEM_SEQ', 'ITEM_NAME']]\n",
    "df"
   ]
  }
 ],
 "metadata": {
  "kernelspec": {
   "display_name": "Python 3 (ipykernel)",
   "language": "python",
   "name": "python3"
  },
  "language_info": {
   "codemirror_mode": {
    "name": "ipython",
    "version": 3
   },
   "file_extension": ".py",
   "mimetype": "text/x-python",
   "name": "python",
   "nbconvert_exporter": "python",
   "pygments_lexer": "ipython3",
   "version": "3.9.12"
  }
 },
 "nbformat": 4,
 "nbformat_minor": 4
}
