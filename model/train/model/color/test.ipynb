{
 "cells": [
  {
   "cell_type": "code",
   "execution_count": 7,
   "metadata": {
    "collapsed": true
   },
   "outputs": [],
   "source": [
    "import pandas as pd\n",
    "\n",
    "df = pd.read_csv(\"../../Data/preprocessed_pill_meta.csv\", encoding='cp949')\n",
    "df = df[['COLOR_CLASS1', 'COLOR_CLASS2']].astype(str)"
   ]
  },
  {
   "cell_type": "code",
   "execution_count": 8,
   "outputs": [
    {
     "name": "stdout",
     "output_type": "stream",
     "text": [
      "['하양', '파랑'] ['하양', '파랑']\n",
      "['하양', '노랑'] ['하양', '노랑']\n",
      "['하양', '파랑'] ['하양', '파랑']\n",
      "['하양', '파랑'] ['하양', '파랑']\n",
      "['하양', '파랑'] ['하양', '파랑']\n",
      "['하양', '파랑'] ['하양', '파랑']\n",
      "['하양', '노랑'] ['하양', '노랑']\n",
      "['하양', '노랑'] ['하양', '노랑']\n",
      "['하양', '노랑'] ['하양', '노랑']\n",
      "['하양', '파랑'] ['하양', '파랑']\n",
      "['하양', '파랑'] ['하양', '파랑']\n",
      "['하양', '파랑'] ['하양', '파랑']\n",
      "['하양', '노랑'] ['하양', '노랑']\n"
     ]
    }
   ],
   "source": [
    "for i, row in df.iterrows():\n",
    "    front = row['COLOR_CLASS1'].split(',')\n",
    "    back = row['COLOR_CLASS2'].split(',')\n",
    "    if len(front) == 2 and len(back) == 2:\n",
    "        print(front, back)"
   ],
   "metadata": {
    "collapsed": false,
    "pycharm": {
     "name": "#%%\n"
    }
   }
  },
  {
   "cell_type": "code",
   "execution_count": null,
   "outputs": [],
   "source": [],
   "metadata": {
    "collapsed": false,
    "pycharm": {
     "name": "#%%\n"
    }
   }
  }
 ],
 "metadata": {
  "kernelspec": {
   "display_name": "Python 3",
   "language": "python",
   "name": "python3"
  },
  "language_info": {
   "codemirror_mode": {
    "name": "ipython",
    "version": 2
   },
   "file_extension": ".py",
   "mimetype": "text/x-python",
   "name": "python",
   "nbconvert_exporter": "python",
   "pygments_lexer": "ipython2",
   "version": "2.7.6"
  }
 },
 "nbformat": 4,
 "nbformat_minor": 0
}